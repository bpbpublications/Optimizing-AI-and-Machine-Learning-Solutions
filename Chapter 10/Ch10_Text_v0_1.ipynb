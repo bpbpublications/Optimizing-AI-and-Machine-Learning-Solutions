{
  "nbformat": 4,
  "nbformat_minor": 0,
  "metadata": {
    "colab": {
      "provenance": []
    },
    "kernelspec": {
      "name": "python3",
      "display_name": "Python 3"
    },
    "language_info": {
      "name": "python"
    }
  },
  "cells": [
    {
      "cell_type": "markdown",
      "source": [
        "### Section: A text classification case study"
      ],
      "metadata": {
        "id": "_DQWWJJbJBfS"
      }
    },
    {
      "cell_type": "code",
      "source": [
        "from tensorflow.keras.datasets import imdb"
      ],
      "metadata": {
        "id": "Li4LOqXhc47l"
      },
      "execution_count": 1,
      "outputs": []
    },
    {
      "cell_type": "code",
      "source": [
        "size_vocab = 10000\n",
        "(X_train, y_train), (X_test, y_test) = imdb.load_data(num_words=size_vocab)"
      ],
      "metadata": {
        "colab": {
          "base_uri": "https://localhost:8080/"
        },
        "id": "kNSKFJIFc41g",
        "outputId": "3e38ffb0-6efa-431b-ec8b-18818c1edac3"
      },
      "execution_count": 2,
      "outputs": [
        {
          "output_type": "stream",
          "name": "stdout",
          "text": [
            "Downloading data from https://storage.googleapis.com/tensorflow/tf-keras-datasets/imdb.npz\n",
            "17464789/17464789 [==============================] - 0s 0us/step\n"
          ]
        }
      ]
    },
    {
      "cell_type": "code",
      "source": [
        "len(X_train), len(y_train)"
      ],
      "metadata": {
        "colab": {
          "base_uri": "https://localhost:8080/"
        },
        "id": "MweYdrizc4yA",
        "outputId": "878b900c-7090-424a-f7a4-6c98ce25f1f9"
      },
      "execution_count": 3,
      "outputs": [
        {
          "output_type": "execute_result",
          "data": {
            "text/plain": [
              "(25000, 25000)"
            ]
          },
          "metadata": {},
          "execution_count": 3
        }
      ]
    },
    {
      "cell_type": "code",
      "source": [
        "print(X_train[46])"
      ],
      "metadata": {
        "colab": {
          "base_uri": "https://localhost:8080/"
        },
        "id": "ljSaoVWj9D3x",
        "outputId": "a764078e-2857-48b1-b71a-88bf7b470e38"
      },
      "execution_count": 4,
      "outputs": [
        {
          "output_type": "stream",
          "name": "stdout",
          "text": [
            "[1, 568, 65, 9, 4689, 31, 7, 4, 118, 495, 34, 4, 1300, 7, 206, 309, 1079, 8, 85, 206, 108, 568, 65, 166, 2, 5, 5811, 168, 40, 2, 4, 3410, 139, 26, 73, 2, 5, 4, 206, 139, 26, 897, 48, 162, 347, 438, 47, 101, 281, 36, 62, 766, 14, 11, 2258]\n"
          ]
        }
      ]
    },
    {
      "cell_type": "code",
      "source": [
        "word_idx = imdb.get_word_index()\n",
        "#https://www.tensorflow.org/api_docs/python/tf/keras/datasets/imdb/get_word_index"
      ],
      "metadata": {
        "colab": {
          "base_uri": "https://localhost:8080/"
        },
        "id": "P9VRPkBLksMH",
        "outputId": "b07cc913-19dd-4470-ee8d-394f898c93c9"
      },
      "execution_count": 5,
      "outputs": [
        {
          "output_type": "stream",
          "name": "stdout",
          "text": [
            "Downloading data from https://storage.googleapis.com/tensorflow/tf-keras-datasets/imdb_word_index.json\n",
            "1641221/1641221 [==============================] - 0s 0us/step\n"
          ]
        }
      ]
    },
    {
      "cell_type": "code",
      "source": [
        "word_idx.get('text')"
      ],
      "metadata": {
        "colab": {
          "base_uri": "https://localhost:8080/"
        },
        "id": "hBV8X0Z4ksIe",
        "outputId": "d28455ee-8144-4d5e-8513-29c1b1682e80"
      },
      "execution_count": 6,
      "outputs": [
        {
          "output_type": "execute_result",
          "data": {
            "text/plain": [
              "3001"
            ]
          },
          "metadata": {},
          "execution_count": 6
        }
      ]
    },
    {
      "cell_type": "code",
      "source": [
        "idx_word = {id:token for token, id in word_idx.items()}"
      ],
      "metadata": {
        "id": "j59bcZ1pksFN"
      },
      "execution_count": 7,
      "outputs": []
    },
    {
      "cell_type": "code",
      "source": [
        "idx_word.get(3001)"
      ],
      "metadata": {
        "colab": {
          "base_uri": "https://localhost:8080/",
          "height": 36
        },
        "id": "AD04m0LUkr51",
        "outputId": "d78abc46-2c47-4d8c-976f-d505eaf432f6"
      },
      "execution_count": 8,
      "outputs": [
        {
          "output_type": "execute_result",
          "data": {
            "text/plain": [
              "'text'"
            ],
            "application/vnd.google.colaboratory.intrinsic+json": {
              "type": "string"
            }
          },
          "metadata": {},
          "execution_count": 8
        }
      ]
    },
    {
      "cell_type": "code",
      "source": [
        "def showreview(inp_ids):\n",
        "  return \" \".join([idx_word.get(x-3,'#') for x in inp_ids])"
      ],
      "metadata": {
        "id": "5ew3Nx9ImfCQ"
      },
      "execution_count": 9,
      "outputs": []
    },
    {
      "cell_type": "code",
      "source": [
        "showreview(X_train[46])"
      ],
      "metadata": {
        "colab": {
          "base_uri": "https://localhost:8080/",
          "height": 72
        },
        "id": "yV539Fcsme-9",
        "outputId": "080582db-1018-499e-ab93-b52468492666"
      },
      "execution_count": 10,
      "outputs": [
        {
          "output_type": "execute_result",
          "data": {
            "text/plain": [
              "'# police story is arguably one of the best works by the master of action himself compared to other action films police story makes # and stallone look like # the stunt scenes are well # and the action scenes are superb if new line cinema has any sense they would release this in theaters'"
            ],
            "application/vnd.google.colaboratory.intrinsic+json": {
              "type": "string"
            }
          },
          "metadata": {},
          "execution_count": 10
        }
      ]
    },
    {
      "cell_type": "markdown",
      "source": [
        "###Section: Recurrent architectures"
      ],
      "metadata": {
        "id": "8_hiprKcJZPU"
      }
    },
    {
      "cell_type": "code",
      "source": [
        "import tensorflow as tf\n",
        "import numpy as np\n",
        "tf.random.set_seed(42)\n",
        "np.random.seed(42)"
      ],
      "metadata": {
        "id": "ngaIdQIHJXMc"
      },
      "execution_count": 11,
      "outputs": []
    },
    {
      "cell_type": "code",
      "source": [
        "from tensorflow.keras.preprocessing import sequence"
      ],
      "metadata": {
        "id": "7ZqHyNsfc44k"
      },
      "execution_count": 12,
      "outputs": []
    },
    {
      "cell_type": "code",
      "source": [
        "max_len = 200\n",
        "X_train_proc = sequence.pad_sequences(X_train, max_len)\n",
        "X_test_proc = sequence.pad_sequences(X_test, max_len)"
      ],
      "metadata": {
        "id": "RiNShWMrc4uI"
      },
      "execution_count": 13,
      "outputs": []
    },
    {
      "cell_type": "code",
      "source": [
        "X_train_proc[46]"
      ],
      "metadata": {
        "colab": {
          "base_uri": "https://localhost:8080/"
        },
        "id": "a3fJLltvc4nN",
        "outputId": "869202f8-3834-40d0-b825-456c7668c5fb"
      },
      "execution_count": 14,
      "outputs": [
        {
          "output_type": "execute_result",
          "data": {
            "text/plain": [
              "array([   0,    0,    0,    0,    0,    0,    0,    0,    0,    0,    0,\n",
              "          0,    0,    0,    0,    0,    0,    0,    0,    0,    0,    0,\n",
              "          0,    0,    0,    0,    0,    0,    0,    0,    0,    0,    0,\n",
              "          0,    0,    0,    0,    0,    0,    0,    0,    0,    0,    0,\n",
              "          0,    0,    0,    0,    0,    0,    0,    0,    0,    0,    0,\n",
              "          0,    0,    0,    0,    0,    0,    0,    0,    0,    0,    0,\n",
              "          0,    0,    0,    0,    0,    0,    0,    0,    0,    0,    0,\n",
              "          0,    0,    0,    0,    0,    0,    0,    0,    0,    0,    0,\n",
              "          0,    0,    0,    0,    0,    0,    0,    0,    0,    0,    0,\n",
              "          0,    0,    0,    0,    0,    0,    0,    0,    0,    0,    0,\n",
              "          0,    0,    0,    0,    0,    0,    0,    0,    0,    0,    0,\n",
              "          0,    0,    0,    0,    0,    0,    0,    0,    0,    0,    0,\n",
              "          0,    0,    0,    0,    0,    0,    0,    0,    0,    0,    0,\n",
              "          0,    0,    1,  568,   65,    9, 4689,   31,    7,    4,  118,\n",
              "        495,   34,    4, 1300,    7,  206,  309, 1079,    8,   85,  206,\n",
              "        108,  568,   65,  166,    2,    5, 5811,  168,   40,    2,    4,\n",
              "       3410,  139,   26,   73,    2,    5,    4,  206,  139,   26,  897,\n",
              "         48,  162,  347,  438,   47,  101,  281,   36,   62,  766,   14,\n",
              "         11, 2258], dtype=int32)"
            ]
          },
          "metadata": {},
          "execution_count": 14
        }
      ]
    },
    {
      "cell_type": "code",
      "source": [
        "from tensorflow.keras.models import Sequential\n",
        "from tensorflow.keras.layers import Dense, SimpleRNN\n",
        "from tensorflow.keras.layers import Embedding, Dropout, SpatialDropout1D\n",
        "from tensorflow.keras.callbacks import EarlyStopping"
      ],
      "metadata": {
        "id": "1ZHsP7P4w3ig"
      },
      "execution_count": 15,
      "outputs": []
    },
    {
      "cell_type": "code",
      "source": [
        "model_rnn = Sequential()\n",
        "model_rnn.add(Embedding(input_dim=size_vocab, output_dim=32))\n",
        "model_rnn.add(SpatialDropout1D(0.3))\n",
        "model_rnn.add(SimpleRNN(32))\n",
        "model_rnn.add(Dropout(0.4))\n",
        "model_rnn.add(Dense(1, activation=\"sigmoid\"))"
      ],
      "metadata": {
        "id": "zLpthxZC1-R6"
      },
      "execution_count": 16,
      "outputs": []
    },
    {
      "cell_type": "code",
      "source": [
        "model_rnn.compile(loss='binary_crossentropy',\n",
        "                  optimizer='adam',\n",
        "                  metrics=['accuracy'])\n",
        "model_rnn.summary()"
      ],
      "metadata": {
        "colab": {
          "base_uri": "https://localhost:8080/"
        },
        "id": "EYRNwre0w3fZ",
        "outputId": "eda6b49b-0675-4196-d787-0ee27a8470e3"
      },
      "execution_count": 17,
      "outputs": [
        {
          "output_type": "stream",
          "name": "stdout",
          "text": [
            "Model: \"sequential\"\n",
            "_________________________________________________________________\n",
            " Layer (type)                Output Shape              Param #   \n",
            "=================================================================\n",
            " embedding (Embedding)       (None, None, 32)          320000    \n",
            "                                                                 \n",
            " spatial_dropout1d (Spatial  (None, None, 32)          0         \n",
            " Dropout1D)                                                      \n",
            "                                                                 \n",
            " simple_rnn (SimpleRNN)      (None, 32)                2080      \n",
            "                                                                 \n",
            " dropout (Dropout)           (None, 32)                0         \n",
            "                                                                 \n",
            " dense (Dense)               (None, 1)                 33        \n",
            "                                                                 \n",
            "=================================================================\n",
            "Total params: 322113 (1.23 MB)\n",
            "Trainable params: 322113 (1.23 MB)\n",
            "Non-trainable params: 0 (0.00 Byte)\n",
            "_________________________________________________________________\n"
          ]
        }
      ]
    },
    {
      "cell_type": "code",
      "source": [
        "stop_early = EarlyStopping(monitor='val_accuracy', patience=10, restore_best_weights=True)"
      ],
      "metadata": {
        "id": "i1-yVb9miZKK"
      },
      "execution_count": 18,
      "outputs": []
    },
    {
      "cell_type": "code",
      "source": [
        "model_rnn.fit(X_train_proc, y_train, epochs=20, validation_split=0.2, callbacks=[stop_early], batch_size=256)"
      ],
      "metadata": {
        "colab": {
          "base_uri": "https://localhost:8080/"
        },
        "outputId": "4113bbbb-22b6-4481-8ea7-36599c321f0e",
        "id": "M8l6jbD9iZKl"
      },
      "execution_count": 19,
      "outputs": [
        {
          "output_type": "stream",
          "name": "stdout",
          "text": [
            "Epoch 1/20\n",
            "79/79 [==============================] - 10s 93ms/step - loss: 0.6798 - accuracy: 0.5537 - val_loss: 0.5760 - val_accuracy: 0.7620\n",
            "Epoch 2/20\n",
            "79/79 [==============================] - 8s 99ms/step - loss: 0.5416 - accuracy: 0.7493 - val_loss: 0.5430 - val_accuracy: 0.7516\n",
            "Epoch 3/20\n",
            "79/79 [==============================] - 7s 89ms/step - loss: 0.3983 - accuracy: 0.8385 - val_loss: 0.3741 - val_accuracy: 0.8432\n",
            "Epoch 4/20\n",
            "79/79 [==============================] - 8s 102ms/step - loss: 0.3076 - accuracy: 0.8811 - val_loss: 0.3558 - val_accuracy: 0.8544\n",
            "Epoch 5/20\n",
            "79/79 [==============================] - 8s 106ms/step - loss: 0.2573 - accuracy: 0.9043 - val_loss: 0.3512 - val_accuracy: 0.8572\n",
            "Epoch 6/20\n",
            "79/79 [==============================] - 7s 91ms/step - loss: 0.2055 - accuracy: 0.9270 - val_loss: 0.3789 - val_accuracy: 0.8580\n",
            "Epoch 7/20\n",
            "79/79 [==============================] - 8s 99ms/step - loss: 0.1679 - accuracy: 0.9431 - val_loss: 0.5171 - val_accuracy: 0.8246\n",
            "Epoch 8/20\n",
            "79/79 [==============================] - 7s 86ms/step - loss: 0.1552 - accuracy: 0.9450 - val_loss: 0.3918 - val_accuracy: 0.8510\n",
            "Epoch 9/20\n",
            "79/79 [==============================] - 8s 104ms/step - loss: 0.1214 - accuracy: 0.9591 - val_loss: 0.4389 - val_accuracy: 0.8438\n",
            "Epoch 10/20\n",
            "79/79 [==============================] - 8s 104ms/step - loss: 0.0959 - accuracy: 0.9694 - val_loss: 0.4563 - val_accuracy: 0.8474\n",
            "Epoch 11/20\n",
            "79/79 [==============================] - 7s 84ms/step - loss: 0.0807 - accuracy: 0.9757 - val_loss: 0.5013 - val_accuracy: 0.8408\n",
            "Epoch 12/20\n",
            "79/79 [==============================] - 8s 100ms/step - loss: 0.0726 - accuracy: 0.9771 - val_loss: 0.5574 - val_accuracy: 0.8440\n",
            "Epoch 13/20\n",
            "79/79 [==============================] - 7s 87ms/step - loss: 0.0598 - accuracy: 0.9822 - val_loss: 0.5624 - val_accuracy: 0.8350\n",
            "Epoch 14/20\n",
            "79/79 [==============================] - 8s 97ms/step - loss: 0.0703 - accuracy: 0.9762 - val_loss: 0.5380 - val_accuracy: 0.8424\n",
            "Epoch 15/20\n",
            "79/79 [==============================] - 8s 99ms/step - loss: 0.0593 - accuracy: 0.9804 - val_loss: 0.5654 - val_accuracy: 0.8376\n",
            "Epoch 16/20\n",
            "79/79 [==============================] - 7s 86ms/step - loss: 0.0470 - accuracy: 0.9861 - val_loss: 0.6504 - val_accuracy: 0.8418\n"
          ]
        },
        {
          "output_type": "execute_result",
          "data": {
            "text/plain": [
              "<keras.src.callbacks.History at 0x78b3eb7edde0>"
            ]
          },
          "metadata": {},
          "execution_count": 19
        }
      ]
    },
    {
      "cell_type": "markdown",
      "source": [
        "### Section: RNN Architectures - LSTM"
      ],
      "metadata": {
        "id": "nbdv4sOrUckr"
      }
    },
    {
      "cell_type": "code",
      "source": [
        "from tensorflow.keras.layers import LSTM"
      ],
      "metadata": {
        "id": "rPCyUpxTeb-y"
      },
      "execution_count": null,
      "outputs": []
    },
    {
      "cell_type": "code",
      "source": [
        "model_lstm = Sequential()\n",
        "model_lstm.add(Embedding(input_dim=size_vocab, output_dim=32))\n",
        "model_lstm.add(SpatialDropout1D(0.4))\n",
        "model_lstm.add(LSTM(32))\n",
        "model_lstm.add(Dropout(0.4))\n",
        "model_lstm.add(Dense(1, activation=\"sigmoid\"))"
      ],
      "metadata": {
        "id": "oGDbDnOxUhCF"
      },
      "execution_count": null,
      "outputs": []
    },
    {
      "cell_type": "code",
      "source": [
        "model_lstm.compile(loss='binary_crossentropy',\n",
        "                   optimizer='adam',\n",
        "                   metrics=['accuracy'])"
      ],
      "metadata": {
        "id": "LIOkvsy7enQC"
      },
      "execution_count": null,
      "outputs": []
    },
    {
      "cell_type": "code",
      "source": [
        "model_lstm.summary()"
      ],
      "metadata": {
        "colab": {
          "base_uri": "https://localhost:8080/"
        },
        "id": "t4K1p_sL06HF",
        "outputId": "6f655020-3526-4fb6-c5b6-324227b019ea"
      },
      "execution_count": null,
      "outputs": [
        {
          "output_type": "stream",
          "name": "stdout",
          "text": [
            "Model: \"sequential_2\"\n",
            "_________________________________________________________________\n",
            " Layer (type)                Output Shape              Param #   \n",
            "=================================================================\n",
            " embedding_2 (Embedding)     (None, None, 32)          320000    \n",
            "                                                                 \n",
            " spatial_dropout1d_2 (Spatia  (None, None, 32)         0         \n",
            " lDropout1D)                                                     \n",
            "                                                                 \n",
            " lstm_1 (LSTM)               (None, 32)                8320      \n",
            "                                                                 \n",
            " dropout_2 (Dropout)         (None, 32)                0         \n",
            "                                                                 \n",
            " dense_2 (Dense)             (None, 1)                 33        \n",
            "                                                                 \n",
            "=================================================================\n",
            "Total params: 328,353\n",
            "Trainable params: 328,353\n",
            "Non-trainable params: 0\n",
            "_________________________________________________________________\n"
          ]
        }
      ]
    },
    {
      "cell_type": "code",
      "source": [
        "stop_early = EarlyStopping(monitor='val_accuracy', patience=10, restore_best_weights=True)"
      ],
      "metadata": {
        "id": "rlAddIo_enQd"
      },
      "execution_count": null,
      "outputs": []
    },
    {
      "cell_type": "code",
      "source": [
        "model_lstm.fit(X_train_proc, y_train,\n",
        "               epochs=20, validation_split=0.2,\n",
        "               callbacks=[stop_early], batch_size=256)"
      ],
      "metadata": {
        "colab": {
          "base_uri": "https://localhost:8080/"
        },
        "outputId": "80d7459d-589d-4469-fba6-2c01db49aa74",
        "id": "So4QmqJ2enQe"
      },
      "execution_count": null,
      "outputs": [
        {
          "output_type": "stream",
          "name": "stdout",
          "text": [
            "Epoch 1/20\n",
            "79/79 [==============================] - 21s 237ms/step - loss: 0.5992 - accuracy: 0.6769 - val_loss: 0.3722 - val_accuracy: 0.8522\n",
            "Epoch 2/20\n",
            "79/79 [==============================] - 20s 258ms/step - loss: 0.3251 - accuracy: 0.8734 - val_loss: 0.3097 - val_accuracy: 0.8730\n",
            "Epoch 3/20\n",
            "79/79 [==============================] - 19s 244ms/step - loss: 0.2371 - accuracy: 0.9135 - val_loss: 0.2924 - val_accuracy: 0.8780\n",
            "Epoch 4/20\n",
            "79/79 [==============================] - 19s 236ms/step - loss: 0.1907 - accuracy: 0.9338 - val_loss: 0.2993 - val_accuracy: 0.8788\n",
            "Epoch 5/20\n",
            "79/79 [==============================] - 19s 243ms/step - loss: 0.1576 - accuracy: 0.9468 - val_loss: 0.3934 - val_accuracy: 0.8730\n",
            "Epoch 6/20\n",
            "79/79 [==============================] - 20s 256ms/step - loss: 0.1385 - accuracy: 0.9522 - val_loss: 0.3181 - val_accuracy: 0.8728\n",
            "Epoch 7/20\n",
            "79/79 [==============================] - 18s 233ms/step - loss: 0.1164 - accuracy: 0.9624 - val_loss: 0.4183 - val_accuracy: 0.8732\n",
            "Epoch 8/20\n",
            "79/79 [==============================] - 21s 267ms/step - loss: 0.0972 - accuracy: 0.9700 - val_loss: 0.3974 - val_accuracy: 0.8716\n",
            "Epoch 9/20\n",
            "79/79 [==============================] - 18s 227ms/step - loss: 0.0917 - accuracy: 0.9718 - val_loss: 0.3891 - val_accuracy: 0.8706\n",
            "Epoch 10/20\n",
            "79/79 [==============================] - 20s 259ms/step - loss: 0.0836 - accuracy: 0.9740 - val_loss: 0.3967 - val_accuracy: 0.8708\n",
            "Epoch 11/20\n",
            "79/79 [==============================] - 18s 226ms/step - loss: 0.0716 - accuracy: 0.9782 - val_loss: 0.4339 - val_accuracy: 0.8682\n",
            "Epoch 12/20\n",
            "79/79 [==============================] - 20s 259ms/step - loss: 0.0673 - accuracy: 0.9802 - val_loss: 0.4492 - val_accuracy: 0.8690\n",
            "Epoch 13/20\n",
            "79/79 [==============================] - 18s 227ms/step - loss: 0.0572 - accuracy: 0.9834 - val_loss: 0.5455 - val_accuracy: 0.8676\n",
            "Epoch 14/20\n",
            "79/79 [==============================] - 19s 243ms/step - loss: 0.0589 - accuracy: 0.9824 - val_loss: 0.6221 - val_accuracy: 0.8590\n"
          ]
        },
        {
          "output_type": "execute_result",
          "data": {
            "text/plain": [
              "<keras.callbacks.History at 0x7f1bb623a9e0>"
            ]
          },
          "metadata": {},
          "execution_count": 38
        }
      ]
    },
    {
      "cell_type": "code",
      "source": [
        "model_lstm.evaluate(X_test_proc, y_test)[1]"
      ],
      "metadata": {
        "colab": {
          "base_uri": "https://localhost:8080/"
        },
        "id": "hGWb4GYoUg7g",
        "outputId": "a84cfa57-59e6-4791-a3b9-574cb19d5edd"
      },
      "execution_count": null,
      "outputs": [
        {
          "output_type": "stream",
          "name": "stdout",
          "text": [
            "782/782 [==============================] - 20s 26ms/step - loss: 0.3136 - accuracy: 0.8721\n"
          ]
        },
        {
          "output_type": "execute_result",
          "data": {
            "text/plain": [
              "0.8721200227737427"
            ]
          },
          "metadata": {},
          "execution_count": 39
        }
      ]
    },
    {
      "cell_type": "code",
      "source": [],
      "metadata": {
        "id": "6PyFWEjKUg4S"
      },
      "execution_count": null,
      "outputs": []
    },
    {
      "cell_type": "code",
      "source": [],
      "metadata": {
        "id": "FlNSA1aaUg1V"
      },
      "execution_count": null,
      "outputs": []
    },
    {
      "cell_type": "markdown",
      "source": [
        "### Section: RNN Architectures - GRU"
      ],
      "metadata": {
        "id": "b0imkb-dUgSE"
      }
    },
    {
      "cell_type": "code",
      "source": [
        "from tensorflow.keras.layers import GRU"
      ],
      "metadata": {
        "id": "0vSbpD7FRYDY"
      },
      "execution_count": null,
      "outputs": []
    },
    {
      "cell_type": "code",
      "source": [
        "model_gru = Sequential()\n",
        "model_gru.add(Embedding(input_dim=size_vocab, output_dim=32))\n",
        "model_gru.add(SpatialDropout1D(0.4))\n",
        "model_gru.add(GRU(32, reset_after=False))\n",
        "model_gru.add(Dropout(0.4))\n",
        "model_gru.add(Dense(1, activation=\"sigmoid\"))"
      ],
      "metadata": {
        "id": "yncyf8O6dnbm"
      },
      "execution_count": null,
      "outputs": []
    },
    {
      "cell_type": "code",
      "source": [
        "model_gru.compile(loss='binary_crossentropy',\n",
        "                   optimizer='adam',\n",
        "                   metrics=['accuracy'])"
      ],
      "metadata": {
        "id": "rmYywXmSdncD"
      },
      "execution_count": null,
      "outputs": []
    },
    {
      "cell_type": "code",
      "source": [
        "model_gru.summary()"
      ],
      "metadata": {
        "colab": {
          "base_uri": "https://localhost:8080/"
        },
        "id": "E-pahLFq9IBU",
        "outputId": "3cc1188b-5754-4018-a1d3-9815dc9230f8"
      },
      "execution_count": null,
      "outputs": [
        {
          "output_type": "stream",
          "name": "stdout",
          "text": [
            "Model: \"sequential_4\"\n",
            "_________________________________________________________________\n",
            " Layer (type)                Output Shape              Param #   \n",
            "=================================================================\n",
            " embedding_4 (Embedding)     (None, None, 32)          320000    \n",
            "                                                                 \n",
            " spatial_dropout1d_4 (Spatia  (None, None, 32)         0         \n",
            " lDropout1D)                                                     \n",
            "                                                                 \n",
            " gru_1 (GRU)                 (None, 32)                6240      \n",
            "                                                                 \n",
            " dropout_4 (Dropout)         (None, 32)                0         \n",
            "                                                                 \n",
            " dense_4 (Dense)             (None, 1)                 33        \n",
            "                                                                 \n",
            "=================================================================\n",
            "Total params: 326,273\n",
            "Trainable params: 326,273\n",
            "Non-trainable params: 0\n",
            "_________________________________________________________________\n"
          ]
        }
      ]
    },
    {
      "cell_type": "code",
      "source": [
        "stop_early = EarlyStopping(monitor='val_accuracy', patience=10, restore_best_weights=True)"
      ],
      "metadata": {
        "id": "-P1ZhOCwdncE"
      },
      "execution_count": null,
      "outputs": []
    },
    {
      "cell_type": "code",
      "source": [
        "model_gru.fit(X_train_proc, y_train, epochs=20, validation_split=0.2, callbacks=[stop_early], batch_size=256)"
      ],
      "metadata": {
        "colab": {
          "base_uri": "https://localhost:8080/"
        },
        "outputId": "d33a28f6-f0fa-4c49-d725-1bfafeb7a3c6",
        "id": "INmTy8xVdncF"
      },
      "execution_count": null,
      "outputs": [
        {
          "output_type": "stream",
          "name": "stdout",
          "text": [
            "Epoch 1/20\n",
            "79/79 [==============================] - 20s 228ms/step - loss: 0.6661 - accuracy: 0.5997 - val_loss: 0.4920 - val_accuracy: 0.7814\n",
            "Epoch 2/20\n",
            "79/79 [==============================] - 20s 251ms/step - loss: 0.3611 - accuracy: 0.8446 - val_loss: 0.3320 - val_accuracy: 0.8580\n",
            "Epoch 3/20\n",
            "79/79 [==============================] - 18s 224ms/step - loss: 0.2480 - accuracy: 0.9035 - val_loss: 0.3222 - val_accuracy: 0.8708\n",
            "Epoch 4/20\n",
            "79/79 [==============================] - 19s 240ms/step - loss: 0.2046 - accuracy: 0.9251 - val_loss: 0.3352 - val_accuracy: 0.8634\n",
            "Epoch 5/20\n",
            "79/79 [==============================] - 18s 223ms/step - loss: 0.1725 - accuracy: 0.9387 - val_loss: 0.3479 - val_accuracy: 0.8728\n",
            "Epoch 6/20\n",
            "79/79 [==============================] - 19s 240ms/step - loss: 0.1513 - accuracy: 0.9469 - val_loss: 0.3491 - val_accuracy: 0.8668\n",
            "Epoch 7/20\n",
            "79/79 [==============================] - 19s 240ms/step - loss: 0.1351 - accuracy: 0.9528 - val_loss: 0.3998 - val_accuracy: 0.8660\n",
            "Epoch 8/20\n",
            "79/79 [==============================] - 17s 220ms/step - loss: 0.1174 - accuracy: 0.9590 - val_loss: 0.4267 - val_accuracy: 0.8678\n",
            "Epoch 9/20\n",
            "79/79 [==============================] - 19s 239ms/step - loss: 0.1162 - accuracy: 0.9596 - val_loss: 0.4527 - val_accuracy: 0.8574\n",
            "Epoch 10/20\n",
            "79/79 [==============================] - 18s 223ms/step - loss: 0.0952 - accuracy: 0.9693 - val_loss: 0.4421 - val_accuracy: 0.8550\n",
            "Epoch 11/20\n",
            "79/79 [==============================] - 18s 224ms/step - loss: 0.0911 - accuracy: 0.9703 - val_loss: 0.4401 - val_accuracy: 0.8534\n",
            "Epoch 12/20\n",
            "79/79 [==============================] - 19s 239ms/step - loss: 0.0962 - accuracy: 0.9661 - val_loss: 0.4798 - val_accuracy: 0.8586\n",
            "Epoch 13/20\n",
            "79/79 [==============================] - 17s 220ms/step - loss: 0.0788 - accuracy: 0.9744 - val_loss: 0.5338 - val_accuracy: 0.8590\n",
            "Epoch 14/20\n",
            "79/79 [==============================] - 19s 243ms/step - loss: 0.0667 - accuracy: 0.9782 - val_loss: 0.5673 - val_accuracy: 0.8548\n",
            "Epoch 15/20\n",
            "79/79 [==============================] - 18s 223ms/step - loss: 0.0626 - accuracy: 0.9799 - val_loss: 0.5390 - val_accuracy: 0.8468\n"
          ]
        },
        {
          "output_type": "execute_result",
          "data": {
            "text/plain": [
              "<keras.callbacks.History at 0x7f1c456b6d40>"
            ]
          },
          "metadata": {},
          "execution_count": 48
        }
      ]
    },
    {
      "cell_type": "code",
      "source": [
        "model_gru.evaluate(X_test_proc, y_test)[1]"
      ],
      "metadata": {
        "colab": {
          "base_uri": "https://localhost:8080/"
        },
        "id": "CilW5kNF-nbZ",
        "outputId": "2e1ffc80-d7d9-4eec-baa7-c18a355d4ca1"
      },
      "execution_count": null,
      "outputs": [
        {
          "output_type": "stream",
          "name": "stdout",
          "text": [
            "782/782 [==============================] - 20s 26ms/step - loss: 0.3803 - accuracy: 0.8571\n"
          ]
        },
        {
          "output_type": "execute_result",
          "data": {
            "text/plain": [
              "0.8570799827575684"
            ]
          },
          "metadata": {},
          "execution_count": 49
        }
      ]
    },
    {
      "cell_type": "markdown",
      "source": [
        "### Section: Transformer architecture"
      ],
      "metadata": {
        "id": "xne_pEPBagv_"
      }
    },
    {
      "cell_type": "code",
      "source": [
        "from tensorflow.keras.layers import MultiHeadAttention"
      ],
      "metadata": {
        "id": "xDE-aAXFvmkI"
      },
      "execution_count": null,
      "outputs": []
    },
    {
      "cell_type": "code",
      "source": [
        "from tensorflow.keras.layers im"
      ],
      "metadata": {
        "id": "RUttCHRqTFtc"
      },
      "execution_count": null,
      "outputs": []
    },
    {
      "cell_type": "code",
      "source": [
        "x = MultiHeadAttention(\n",
        "    key_dim=head_size, num_heads=num_heads) (x, x)"
      ],
      "metadata": {
        "id": "W2EYe-pITA9_"
      },
      "execution_count": null,
      "outputs": []
    },
    {
      "cell_type": "markdown",
      "source": [
        "### Section: Tuning network hyper-parameters"
      ],
      "metadata": {
        "id": "zuosrQki8zve"
      }
    },
    {
      "cell_type": "code",
      "source": [
        "!pip install keras-tuner -q"
      ],
      "metadata": {
        "colab": {
          "base_uri": "https://localhost:8080/"
        },
        "id": "LDkUM8la9Jt0",
        "outputId": "a49c26d4-63fb-4c4a-925e-2990e5363213"
      },
      "execution_count": null,
      "outputs": [
        {
          "output_type": "stream",
          "name": "stdout",
          "text": [
            "\u001b[?25l     \u001b[90m━━━━━━━━━━━━━━━━━━━━━━━━━━━━━━━━━━━━━━━━\u001b[0m \u001b[32m0.0/176.1 kB\u001b[0m \u001b[31m?\u001b[0m eta \u001b[36m-:--:--\u001b[0m\r\u001b[2K     \u001b[91m━━━━━━━━━━━━━━━━━━━━━━━━━━━━━━━━━━━━━━\u001b[0m\u001b[91m╸\u001b[0m \u001b[32m174.1/176.1 kB\u001b[0m \u001b[31m6.0 MB/s\u001b[0m eta \u001b[36m0:00:01\u001b[0m\r\u001b[2K     \u001b[90m━━━━━━━━━━━━━━━━━━━━━━━━━━━━━━━━━━━━━━━\u001b[0m \u001b[32m176.1/176.1 kB\u001b[0m \u001b[31m4.6 MB/s\u001b[0m eta \u001b[36m0:00:00\u001b[0m\n",
            "\u001b[?25h"
          ]
        }
      ]
    },
    {
      "cell_type": "code",
      "source": [
        "import keras_tuner as kt"
      ],
      "metadata": {
        "id": "7ovvLEN29JqQ"
      },
      "execution_count": null,
      "outputs": []
    },
    {
      "cell_type": "markdown",
      "source": [
        "### Exercise- Hyper-parameter tuning of GRU model"
      ],
      "metadata": {
        "id": "eERetCDWayed"
      }
    },
    {
      "cell_type": "code",
      "source": [
        "def model_builder(hparams):\n",
        "\n",
        "  model = Sequential()\n",
        "\n",
        "  hp_embedsize = hparams.Int('embedsize', min_value=16,\n",
        "                             max_value=64, step=16)\n",
        "  hp_units = hparams.Int('units', min_value=16,\n",
        "                         max_value=64, step=16)\n",
        "  hp_activation = hparams.Choice('activation',\n",
        "   ['elu', 'relu', 'tanh'])\n",
        "\n",
        "  model.add(Embedding(input_dim=size_vocab, output_dim=hp_embedsize))\n",
        "  model.add(SpatialDropout1D(0.4))\n",
        "  model.add(GRU(units=hp_units, activation=hp_activation, reset_after=False))\n",
        "  model.add(Dropout(0.4))\n",
        "  model.add(Dense(1, activation='sigmoid'))\n",
        "\n",
        "  model.compile(loss='binary_crossentropy',\n",
        "                    optimizer='adam',\n",
        "                    metrics=['accuracy'])\n",
        "\n",
        "  return model"
      ],
      "metadata": {
        "id": "M-puOmcg9JoR"
      },
      "execution_count": null,
      "outputs": []
    },
    {
      "cell_type": "code",
      "source": [
        "tuner = kt.RandomSearch(model_builder,\n",
        "                        objective='val_accuracy',\n",
        "                        max_trials=10,\n",
        "                        overwrite=True)"
      ],
      "metadata": {
        "id": "NX626L_19Jl5"
      },
      "execution_count": null,
      "outputs": []
    },
    {
      "cell_type": "code",
      "source": [
        "stop_early = EarlyStopping(monitor='val_accuracy',\n",
        "                           patience=5, restore_best_weights=True)"
      ],
      "metadata": {
        "id": "s5cVvZSf9JcP"
      },
      "execution_count": null,
      "outputs": []
    },
    {
      "cell_type": "code",
      "source": [
        "tuner.search(X_train_proc, y_train,\n",
        "             epochs=20, validation_split=0.2,\n",
        "             callbacks=[stop_early])"
      ],
      "metadata": {
        "colab": {
          "base_uri": "https://localhost:8080/"
        },
        "id": "SHXZlMxACZce",
        "outputId": "84a6e65f-3f45-4863-90a8-60448bc0bfa4"
      },
      "execution_count": null,
      "outputs": [
        {
          "output_type": "stream",
          "name": "stdout",
          "text": [
            "Trial 10 Complete [00h 06m 12s]\n",
            "val_accuracy: 0.8794000148773193\n",
            "\n",
            "Best val_accuracy So Far: 0.8809999823570251\n",
            "Total elapsed time: 01h 05m 52s\n"
          ]
        }
      ]
    },
    {
      "cell_type": "code",
      "source": [
        "res = tuner.get_best_hyperparameters()[0]\n",
        "res.values"
      ],
      "metadata": {
        "colab": {
          "base_uri": "https://localhost:8080/"
        },
        "id": "4-IrH0JcVius",
        "outputId": "2db0b6f2-b16e-44ec-9049-797022d12321"
      },
      "execution_count": null,
      "outputs": [
        {
          "output_type": "execute_result",
          "data": {
            "text/plain": [
              "{'embedsize': 48, 'units': 64, 'activation': 'tanh'}"
            ]
          },
          "metadata": {},
          "execution_count": 38
        }
      ]
    },
    {
      "cell_type": "code",
      "source": [
        "tuner.results_summary(3)"
      ],
      "metadata": {
        "colab": {
          "base_uri": "https://localhost:8080/"
        },
        "id": "wR9XqvI_XPzQ",
        "outputId": "dd0a81a1-9cf7-4fb1-a3b2-9e7bbadfd485"
      },
      "execution_count": null,
      "outputs": [
        {
          "output_type": "stream",
          "name": "stdout",
          "text": [
            "Results summary\n",
            "Results in ./untitled_project\n",
            "Showing 3 best trials\n",
            "Objective(name=\"val_accuracy\", direction=\"max\")\n",
            "\n",
            "Trial 04 summary\n",
            "Hyperparameters:\n",
            "embedsize: 48\n",
            "units: 64\n",
            "activation: tanh\n",
            "Score: 0.8809999823570251\n",
            "\n",
            "Trial 05 summary\n",
            "Hyperparameters:\n",
            "embedsize: 48\n",
            "units: 64\n",
            "activation: elu\n",
            "Score: 0.8795999884605408\n",
            "\n",
            "Trial 09 summary\n",
            "Hyperparameters:\n",
            "embedsize: 16\n",
            "units: 32\n",
            "activation: relu\n",
            "Score: 0.8794000148773193\n"
          ]
        }
      ]
    },
    {
      "cell_type": "code",
      "source": [
        "best_model = tuner.get_best_models()[0]\n",
        "best_model.evaluate(X_test_proc, y_test)[1]"
      ],
      "metadata": {
        "colab": {
          "base_uri": "https://localhost:8080/"
        },
        "id": "MSm4ReJsXWOt",
        "outputId": "b7b0c748-3c54-43f7-e9f0-ac2604425da8"
      },
      "execution_count": null,
      "outputs": [
        {
          "output_type": "stream",
          "name": "stdout",
          "text": [
            "782/782 [==============================] - 17s 21ms/step - loss: 0.3505 - accuracy: 0.8702\n"
          ]
        },
        {
          "output_type": "execute_result",
          "data": {
            "text/plain": [
              "0.8701599836349487"
            ]
          },
          "metadata": {},
          "execution_count": 40
        }
      ]
    },
    {
      "cell_type": "code",
      "source": [],
      "metadata": {
        "id": "wFJYFKERXWH2"
      },
      "execution_count": null,
      "outputs": []
    },
    {
      "cell_type": "markdown",
      "source": [
        "### Exercise- Using 1D convolutions + RNNs"
      ],
      "metadata": {
        "id": "X0wXWJmxVjkO"
      }
    },
    {
      "cell_type": "code",
      "source": [
        "from tensorflow.keras.layers import Conv1D"
      ],
      "metadata": {
        "id": "u8OEQDzMM7JW"
      },
      "execution_count": null,
      "outputs": []
    },
    {
      "cell_type": "code",
      "source": [
        "model_comb = Sequential()\n",
        "model_comb.add(Embedding(input_dim=size_vocab, output_dim=32))\n",
        "model_comb.add(SpatialDropout1D(0.4))\n",
        "model_comb.add(Conv1D(32, 2, activation='relu'))\n",
        "model_comb.add(GRU(32, reset_after=False))\n",
        "model_comb.add(Dropout(0.4))\n",
        "model_comb.add(Dense(1, activation=\"sigmoid\"))"
      ],
      "metadata": {
        "id": "uVP3kxSrc4gT"
      },
      "execution_count": null,
      "outputs": []
    },
    {
      "cell_type": "code",
      "source": [
        "model_comb.compile(loss='binary_crossentropy',\n",
        "                   optimizer='adam',\n",
        "                   metrics=['accuracy'])"
      ],
      "metadata": {
        "id": "2Bi6Nhf1aU5L"
      },
      "execution_count": null,
      "outputs": []
    },
    {
      "cell_type": "code",
      "source": [
        "stop_early = EarlyStopping(monitor='val_accuracy',\n",
        "                           patience=10,\n",
        "                           restore_best_weights=True)"
      ],
      "metadata": {
        "id": "OuHtiWqTc4cC"
      },
      "execution_count": null,
      "outputs": []
    },
    {
      "cell_type": "code",
      "source": [
        "model_comb.fit(X_train_proc, y_train,\n",
        "               epochs=20, validation_split=0.2,\n",
        "               callbacks=[stop_early],\n",
        "               batch_size=256)"
      ],
      "metadata": {
        "colab": {
          "base_uri": "https://localhost:8080/"
        },
        "id": "yR_-KAgjc4XG",
        "outputId": "f281ed9a-45e2-4fa2-cb76-c1dd3caabd7c"
      },
      "execution_count": null,
      "outputs": [
        {
          "output_type": "stream",
          "name": "stdout",
          "text": [
            "Epoch 1/20\n",
            "79/79 [==============================] - 13s 148ms/step - loss: 0.6809 - accuracy: 0.5767 - val_loss: 0.6054 - val_accuracy: 0.6754\n",
            "Epoch 2/20\n",
            "79/79 [==============================] - 11s 145ms/step - loss: 0.4305 - accuracy: 0.8072 - val_loss: 0.3655 - val_accuracy: 0.8438\n",
            "Epoch 3/20\n",
            "79/79 [==============================] - 12s 147ms/step - loss: 0.2843 - accuracy: 0.8858 - val_loss: 0.3533 - val_accuracy: 0.8544\n",
            "Epoch 4/20\n",
            "79/79 [==============================] - 11s 145ms/step - loss: 0.2306 - accuracy: 0.9118 - val_loss: 0.3286 - val_accuracy: 0.8656\n",
            "Epoch 5/20\n",
            "79/79 [==============================] - 11s 146ms/step - loss: 0.1896 - accuracy: 0.9305 - val_loss: 0.3519 - val_accuracy: 0.8618\n",
            "Epoch 6/20\n",
            "79/79 [==============================] - 12s 146ms/step - loss: 0.1714 - accuracy: 0.9391 - val_loss: 0.3394 - val_accuracy: 0.8652\n",
            "Epoch 7/20\n",
            "79/79 [==============================] - 11s 145ms/step - loss: 0.1506 - accuracy: 0.9485 - val_loss: 0.3742 - val_accuracy: 0.8674\n",
            "Epoch 8/20\n",
            "79/79 [==============================] - 11s 146ms/step - loss: 0.1257 - accuracy: 0.9579 - val_loss: 0.3909 - val_accuracy: 0.8656\n",
            "Epoch 9/20\n",
            "79/79 [==============================] - 12s 146ms/step - loss: 0.1123 - accuracy: 0.9616 - val_loss: 0.4141 - val_accuracy: 0.8598\n",
            "Epoch 10/20\n",
            "79/79 [==============================] - 11s 145ms/step - loss: 0.0943 - accuracy: 0.9687 - val_loss: 0.4166 - val_accuracy: 0.8584\n",
            "Epoch 11/20\n",
            "79/79 [==============================] - 12s 146ms/step - loss: 0.0839 - accuracy: 0.9725 - val_loss: 0.4536 - val_accuracy: 0.8516\n",
            "Epoch 12/20\n",
            "79/79 [==============================] - 12s 153ms/step - loss: 0.0753 - accuracy: 0.9766 - val_loss: 0.4647 - val_accuracy: 0.8554\n",
            "Epoch 13/20\n",
            "79/79 [==============================] - 11s 145ms/step - loss: 0.0685 - accuracy: 0.9777 - val_loss: 0.5188 - val_accuracy: 0.8508\n",
            "Epoch 14/20\n",
            "79/79 [==============================] - 12s 147ms/step - loss: 0.0660 - accuracy: 0.9787 - val_loss: 0.5537 - val_accuracy: 0.8560\n",
            "Epoch 15/20\n",
            "79/79 [==============================] - 11s 145ms/step - loss: 0.0546 - accuracy: 0.9834 - val_loss: 0.5538 - val_accuracy: 0.8478\n",
            "Epoch 16/20\n",
            "79/79 [==============================] - 11s 141ms/step - loss: 0.0617 - accuracy: 0.9796 - val_loss: 0.5353 - val_accuracy: 0.8496\n",
            "Epoch 17/20\n",
            "79/79 [==============================] - 11s 141ms/step - loss: 0.0533 - accuracy: 0.9822 - val_loss: 0.5689 - val_accuracy: 0.8528\n"
          ]
        },
        {
          "output_type": "execute_result",
          "data": {
            "text/plain": [
              "<keras.callbacks.History at 0x7f6f407ee0e0>"
            ]
          },
          "metadata": {},
          "execution_count": 111
        }
      ]
    },
    {
      "cell_type": "code",
      "source": [
        "model_comb.evaluate(X_test_proc, y_test)[1]"
      ],
      "metadata": {
        "colab": {
          "base_uri": "https://localhost:8080/"
        },
        "id": "KrXfOudrhQDc",
        "outputId": "5e1adf33-e685-4f53-bca6-2f58f108cb46"
      },
      "execution_count": null,
      "outputs": [
        {
          "output_type": "stream",
          "name": "stdout",
          "text": [
            "782/782 [==============================] - 11s 14ms/step - loss: 0.4035 - accuracy: 0.8613\n"
          ]
        },
        {
          "output_type": "execute_result",
          "data": {
            "text/plain": [
              "0.8613200187683105"
            ]
          },
          "metadata": {},
          "execution_count": 112
        }
      ]
    },
    {
      "cell_type": "markdown",
      "source": [
        "### Section: Using pre-trained embeddings"
      ],
      "metadata": {
        "id": "ivYT6kvFsc1H"
      }
    },
    {
      "cell_type": "code",
      "source": [
        "!pip install tensorflow-hub -q"
      ],
      "metadata": {
        "id": "kvn8Jqwvc4O-"
      },
      "execution_count": null,
      "outputs": []
    },
    {
      "cell_type": "code",
      "source": [
        "!pip install tensorflow-datasets -q"
      ],
      "metadata": {
        "id": "LTiGOviI4jF9"
      },
      "execution_count": null,
      "outputs": []
    },
    {
      "cell_type": "code",
      "source": [
        "import tensorflow as tf, tensorflow_hub as tfhub\n",
        "import tensorflow_datasets as tfds"
      ],
      "metadata": {
        "id": "APr-RTxi4kj7"
      },
      "execution_count": null,
      "outputs": []
    },
    {
      "cell_type": "code",
      "source": [
        "train_data, valid_data, test_data = tfds.load(name=\"imdb_reviews\",\n",
        "                                  split=('train[:80%]', 'train[80%:]','test'),\n",
        "                                  as_supervised=True)"
      ],
      "metadata": {
        "id": "Obk-92wl4kon"
      },
      "execution_count": null,
      "outputs": []
    },
    {
      "cell_type": "code",
      "source": [
        "train_examples_batch, _ = next(iter(train_data.batch(10)))"
      ],
      "metadata": {
        "id": "DjpZEnbG4kr5"
      },
      "execution_count": null,
      "outputs": []
    },
    {
      "cell_type": "code",
      "source": [
        "train_examples_batch[3]"
      ],
      "metadata": {
        "id": "3qJ-w0Ms4kvO",
        "colab": {
          "base_uri": "https://localhost:8080/"
        },
        "outputId": "01edc891-5b01-4272-9a11-d1a7133c788d"
      },
      "execution_count": null,
      "outputs": [
        {
          "output_type": "execute_result",
          "data": {
            "text/plain": [
              "<tf.Tensor: shape=(), dtype=string, numpy=b'This is the kind of film for a snowy Sunday afternoon when the rest of the world can go ahead with its own business as you descend into a big arm-chair and mellow for a couple of hours. Wonderful performances from Cher and Nicolas Cage (as always) gently row the plot along. There are no rapids to cross, no dangerous waters, just a warm and witty paddle through New York life at its best. A family film in every sense and one that deserves the praise it received.'>"
            ]
          },
          "metadata": {},
          "execution_count": 68
        }
      ]
    },
    {
      "cell_type": "code",
      "source": [
        "embedding = \"https://tfhub.dev/google/universal-sentence-encoder/4\"\n",
        "hub_layer = tfhub.KerasLayer(embedding, input_shape=[],\n",
        "                             dtype=tf.string,\n",
        "                             trainable=False)"
      ],
      "metadata": {
        "id": "h3hwRfPm4kzL"
      },
      "execution_count": null,
      "outputs": []
    },
    {
      "cell_type": "code",
      "source": [
        "hub_layer(train_examples_batch[3:4]).shape"
      ],
      "metadata": {
        "id": "NhFMYD6R4k3C",
        "colab": {
          "base_uri": "https://localhost:8080/"
        },
        "outputId": "9cdb4de6-bb6b-487d-c6bc-3d11a3bfee5e"
      },
      "execution_count": null,
      "outputs": [
        {
          "output_type": "execute_result",
          "data": {
            "text/plain": [
              "TensorShape([1, 512])"
            ]
          },
          "metadata": {},
          "execution_count": 70
        }
      ]
    },
    {
      "cell_type": "code",
      "source": [
        "hub_layer(train_examples_batch[3:4])[0][:10]"
      ],
      "metadata": {
        "colab": {
          "base_uri": "https://localhost:8080/"
        },
        "id": "XFfAvDcMY9v0",
        "outputId": "c750a067-e6b7-42f7-db3a-a6bc606ecd65"
      },
      "execution_count": null,
      "outputs": [
        {
          "output_type": "execute_result",
          "data": {
            "text/plain": [
              "<tf.Tensor: shape=(10,), dtype=float32, numpy=\n",
              "array([-0.00274222, -0.04518872,  0.02080956,  0.03594078, -0.03814794,\n",
              "        0.07527251,  0.01817022, -0.02279347,  0.07460126,  0.0103387 ],\n",
              "      dtype=float32)>"
            ]
          },
          "metadata": {},
          "execution_count": 71
        }
      ]
    },
    {
      "cell_type": "markdown",
      "source": [
        "### Exercise- Text classification with pre-trained embeddings"
      ],
      "metadata": {
        "id": "CmgE05vabqis"
      }
    },
    {
      "cell_type": "code",
      "source": [
        "from tensorflow.keras.models import Sequential\n",
        "from tensorflow.keras.layers import Dense\n",
        "from tensorflow.keras.callbacks import EarlyStopping"
      ],
      "metadata": {
        "id": "b9cQmCzdi_h6"
      },
      "execution_count": null,
      "outputs": []
    },
    {
      "cell_type": "code",
      "source": [
        "model_emb = Sequential()\n",
        "model_emb.add(hub_layer)\n",
        "\n",
        "model_emb.add(Dense(128, activation='relu'))\n",
        "model_emb.add(Dense(128, activation='relu'))\n",
        "model_emb.add(Dense(1))\n",
        "model_emb.summary()"
      ],
      "metadata": {
        "colab": {
          "base_uri": "https://localhost:8080/"
        },
        "id": "Ydo8iSfWE9TP",
        "outputId": "a3f5ad22-71bc-4f83-9e65-0fa1dbb1de33"
      },
      "execution_count": null,
      "outputs": [
        {
          "output_type": "stream",
          "name": "stdout",
          "text": [
            "Model: \"sequential_6\"\n",
            "_________________________________________________________________\n",
            " Layer (type)                Output Shape              Param #   \n",
            "=================================================================\n",
            " keras_layer_1 (KerasLayer)  (None, 512)               256797824 \n",
            "                                                                 \n",
            " dense_8 (Dense)             (None, 128)               65664     \n",
            "                                                                 \n",
            " dense_9 (Dense)             (None, 128)               16512     \n",
            "                                                                 \n",
            " dense_10 (Dense)            (None, 1)                 129       \n",
            "                                                                 \n",
            "=================================================================\n",
            "Total params: 256,880,129\n",
            "Trainable params: 82,305\n",
            "Non-trainable params: 256,797,824\n",
            "_________________________________________________________________\n"
          ]
        }
      ]
    },
    {
      "cell_type": "code",
      "source": [
        "model_emb.compile(loss='binary_crossentropy',\n",
        "                   optimizer='adam',\n",
        "                   metrics=['accuracy'])"
      ],
      "metadata": {
        "id": "rWD5ko6NIpmV"
      },
      "execution_count": null,
      "outputs": []
    },
    {
      "cell_type": "code",
      "source": [
        "stop_early = EarlyStopping(monitor='val_accuracy', patience=10, restore_best_weights=True)"
      ],
      "metadata": {
        "id": "orJB_Y2-Ipmt"
      },
      "execution_count": null,
      "outputs": []
    },
    {
      "cell_type": "code",
      "source": [
        "model_emb.fit(train_data.batch(512),\n",
        "              epochs=10,\n",
        "              validation_data = valid_data.batch(512),\n",
        "              callbacks=[stop_early])"
      ],
      "metadata": {
        "colab": {
          "base_uri": "https://localhost:8080/"
        },
        "outputId": "b8991c0c-d1e8-4839-fef4-f5ac0b18b74f",
        "id": "tCrdsYQoIpmt"
      },
      "execution_count": null,
      "outputs": [
        {
          "output_type": "stream",
          "name": "stdout",
          "text": [
            "Epoch 1/10\n",
            "40/40 [==============================] - 57s 1s/step - loss: 0.9068 - accuracy: 0.5949 - val_loss: 0.5469 - val_accuracy: 0.7940\n",
            "Epoch 2/10\n",
            "40/40 [==============================] - 49s 1s/step - loss: 0.4657 - accuracy: 0.8139 - val_loss: 0.3885 - val_accuracy: 0.8322\n",
            "Epoch 3/10\n",
            "40/40 [==============================] - 51s 1s/step - loss: 0.3998 - accuracy: 0.8462 - val_loss: 0.4075 - val_accuracy: 0.8514\n",
            "Epoch 4/10\n",
            "40/40 [==============================] - 47s 1s/step - loss: 0.3867 - accuracy: 0.8496 - val_loss: 0.4486 - val_accuracy: 0.8496\n",
            "Epoch 5/10\n",
            "40/40 [==============================] - 49s 1s/step - loss: 0.3725 - accuracy: 0.8535 - val_loss: 0.5163 - val_accuracy: 0.7868\n",
            "Epoch 6/10\n",
            "40/40 [==============================] - 48s 1s/step - loss: 0.4024 - accuracy: 0.8324 - val_loss: 0.3856 - val_accuracy: 0.8430\n",
            "Epoch 7/10\n",
            "40/40 [==============================] - 48s 1s/step - loss: 0.3773 - accuracy: 0.8502 - val_loss: 0.3696 - val_accuracy: 0.8368\n",
            "Epoch 8/10\n",
            "40/40 [==============================] - 50s 1s/step - loss: 0.3698 - accuracy: 0.8575 - val_loss: 0.3836 - val_accuracy: 0.8486\n",
            "Epoch 9/10\n",
            "40/40 [==============================] - 48s 1s/step - loss: 0.3678 - accuracy: 0.8605 - val_loss: 0.3708 - val_accuracy: 0.8490\n",
            "Epoch 10/10\n",
            "40/40 [==============================] - 49s 1s/step - loss: 0.4099 - accuracy: 0.8303 - val_loss: 0.6440 - val_accuracy: 0.6042\n"
          ]
        },
        {
          "output_type": "execute_result",
          "data": {
            "text/plain": [
              "<keras.callbacks.History at 0x7f1b89e9bdc0>"
            ]
          },
          "metadata": {},
          "execution_count": 76
        }
      ]
    },
    {
      "cell_type": "code",
      "source": [
        "model_emb.evaluate(test_data.batch(512))[1]"
      ],
      "metadata": {
        "colab": {
          "base_uri": "https://localhost:8080/"
        },
        "id": "FpWD9bvmE9NK",
        "outputId": "b38f7395-3eb1-4bf2-9c26-6e9e13334758"
      },
      "execution_count": null,
      "outputs": [
        {
          "output_type": "stream",
          "name": "stdout",
          "text": [
            "49/49 [==============================] - 48s 988ms/step - loss: 0.4344 - accuracy: 0.8531\n"
          ]
        },
        {
          "output_type": "execute_result",
          "data": {
            "text/plain": [
              "0.8531200289726257"
            ]
          },
          "metadata": {},
          "execution_count": 150
        }
      ]
    }
  ]
}