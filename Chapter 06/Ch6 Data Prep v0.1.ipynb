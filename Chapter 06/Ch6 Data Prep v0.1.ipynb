{
 "cells": [
  {
   "cell_type": "code",
   "execution_count": 56,
   "metadata": {
    "id": "Gyvg9SnGONx7",
    "outputId": "ad55db91-3ad2-48ab-d53d-c8ead1bad22b"
   },
   "outputs": [],
   "source": [
    "import numpy as np, pandas as pd\n",
    "import matplotlib.pyplot as plt, seaborn as sns\n",
    "import warnings\n",
    "warnings.filterwarnings(\"ignore\")\n",
    "%matplotlib inline"
   ]
  },
  {
   "cell_type": "markdown",
   "metadata": {
    "id": "5RJPSBLmONx_"
   },
   "source": [
    "# Data Prep"
   ]
  },
  {
   "cell_type": "code",
   "execution_count": 11,
   "metadata": {
    "id": "FjM2Ot-CONx_"
   },
   "outputs": [],
   "source": [
    "bank0 = pd.read_csv('bank marketing v2.zip', compression='zip')"
   ]
  },
  {
   "cell_type": "code",
   "execution_count": 12,
   "metadata": {
    "id": "kSQWDGnYONyA",
    "outputId": "a69cbdaf-94cc-4297-958a-6cb3447fa1e7"
   },
   "outputs": [
    {
     "data": {
      "text/html": [
       "<div>\n",
       "<style scoped>\n",
       "    .dataframe tbody tr th:only-of-type {\n",
       "        vertical-align: middle;\n",
       "    }\n",
       "\n",
       "    .dataframe tbody tr th {\n",
       "        vertical-align: top;\n",
       "    }\n",
       "\n",
       "    .dataframe thead th {\n",
       "        text-align: right;\n",
       "    }\n",
       "</style>\n",
       "<table border=\"1\" class=\"dataframe\">\n",
       "  <thead>\n",
       "    <tr style=\"text-align: right;\">\n",
       "      <th></th>\n",
       "      <th>age</th>\n",
       "      <th>job</th>\n",
       "      <th>marital</th>\n",
       "      <th>education</th>\n",
       "      <th>default</th>\n",
       "      <th>balance</th>\n",
       "      <th>housing</th>\n",
       "      <th>loan</th>\n",
       "      <th>contact</th>\n",
       "      <th>day</th>\n",
       "      <th>month</th>\n",
       "      <th>duration</th>\n",
       "      <th>poutcome</th>\n",
       "      <th>deposit</th>\n",
       "      <th>p_recency</th>\n",
       "    </tr>\n",
       "  </thead>\n",
       "  <tbody>\n",
       "    <tr>\n",
       "      <th>0</th>\n",
       "      <td>59</td>\n",
       "      <td>admin.</td>\n",
       "      <td>married</td>\n",
       "      <td>secondary</td>\n",
       "      <td>no</td>\n",
       "      <td>2343</td>\n",
       "      <td>yes</td>\n",
       "      <td>no</td>\n",
       "      <td>unknown</td>\n",
       "      <td>5</td>\n",
       "      <td>may</td>\n",
       "      <td>1042</td>\n",
       "      <td>unknown</td>\n",
       "      <td>yes</td>\n",
       "      <td>None</td>\n",
       "    </tr>\n",
       "    <tr>\n",
       "      <th>1</th>\n",
       "      <td>56</td>\n",
       "      <td>admin.</td>\n",
       "      <td>married</td>\n",
       "      <td>secondary</td>\n",
       "      <td>no</td>\n",
       "      <td>45</td>\n",
       "      <td>no</td>\n",
       "      <td>no</td>\n",
       "      <td>unknown</td>\n",
       "      <td>5</td>\n",
       "      <td>may</td>\n",
       "      <td>1467</td>\n",
       "      <td>unknown</td>\n",
       "      <td>yes</td>\n",
       "      <td>None</td>\n",
       "    </tr>\n",
       "    <tr>\n",
       "      <th>2</th>\n",
       "      <td>41</td>\n",
       "      <td>technician</td>\n",
       "      <td>married</td>\n",
       "      <td>secondary</td>\n",
       "      <td>no</td>\n",
       "      <td>1270</td>\n",
       "      <td>yes</td>\n",
       "      <td>no</td>\n",
       "      <td>unknown</td>\n",
       "      <td>5</td>\n",
       "      <td>may</td>\n",
       "      <td>1389</td>\n",
       "      <td>unknown</td>\n",
       "      <td>yes</td>\n",
       "      <td>None</td>\n",
       "    </tr>\n",
       "    <tr>\n",
       "      <th>3</th>\n",
       "      <td>55</td>\n",
       "      <td>services</td>\n",
       "      <td>married</td>\n",
       "      <td>secondary</td>\n",
       "      <td>no</td>\n",
       "      <td>2476</td>\n",
       "      <td>yes</td>\n",
       "      <td>no</td>\n",
       "      <td>unknown</td>\n",
       "      <td>5</td>\n",
       "      <td>may</td>\n",
       "      <td>579</td>\n",
       "      <td>unknown</td>\n",
       "      <td>yes</td>\n",
       "      <td>None</td>\n",
       "    </tr>\n",
       "    <tr>\n",
       "      <th>4</th>\n",
       "      <td>54</td>\n",
       "      <td>admin.</td>\n",
       "      <td>married</td>\n",
       "      <td>tertiary</td>\n",
       "      <td>no</td>\n",
       "      <td>184</td>\n",
       "      <td>no</td>\n",
       "      <td>no</td>\n",
       "      <td>unknown</td>\n",
       "      <td>5</td>\n",
       "      <td>may</td>\n",
       "      <td>673</td>\n",
       "      <td>unknown</td>\n",
       "      <td>yes</td>\n",
       "      <td>None</td>\n",
       "    </tr>\n",
       "  </tbody>\n",
       "</table>\n",
       "</div>"
      ],
      "text/plain": [
       "   age         job  marital  education default  balance housing loan  contact  \\\n",
       "0   59      admin.  married  secondary      no     2343     yes   no  unknown   \n",
       "1   56      admin.  married  secondary      no       45      no   no  unknown   \n",
       "2   41  technician  married  secondary      no     1270     yes   no  unknown   \n",
       "3   55    services  married  secondary      no     2476     yes   no  unknown   \n",
       "4   54      admin.  married   tertiary      no      184      no   no  unknown   \n",
       "\n",
       "   day month  duration poutcome deposit p_recency  \n",
       "0    5   may      1042  unknown     yes      None  \n",
       "1    5   may      1467  unknown     yes      None  \n",
       "2    5   may      1389  unknown     yes      None  \n",
       "3    5   may       579  unknown     yes      None  \n",
       "4    5   may       673  unknown     yes      None  "
      ]
     },
     "execution_count": 12,
     "metadata": {},
     "output_type": "execute_result"
    }
   ],
   "source": [
    "bank0.head()"
   ]
  },
  {
   "cell_type": "code",
   "execution_count": 13,
   "metadata": {
    "id": "b-fr1upkONyB",
    "outputId": "ecf5418c-ae0d-4903-a3ce-2763c017c198"
   },
   "outputs": [
    {
     "data": {
      "text/plain": [
       "no     0.52616\n",
       "yes    0.47384\n",
       "Name: deposit, dtype: float64"
      ]
     },
     "execution_count": 13,
     "metadata": {},
     "output_type": "execute_result"
    }
   ],
   "source": [
    "bank0.deposit.value_counts(normalize=True)"
   ]
  },
  {
   "cell_type": "markdown",
   "metadata": {
    "id": "__G_1K1GONyC"
   },
   "source": [
    "#### Modifying the target variable to have 0/1 values"
   ]
  },
  {
   "cell_type": "code",
   "execution_count": 14,
   "metadata": {
    "id": "fKytEwhJONyC"
   },
   "outputs": [],
   "source": [
    "bank0.deposit = bank0.deposit.map({'yes':1, 'no':0})"
   ]
  },
  {
   "cell_type": "code",
   "execution_count": 15,
   "metadata": {
    "id": "TJ_W-JGEONyC",
    "outputId": "3ec49eba-f149-410c-9203-0ab3d81739f2"
   },
   "outputs": [
    {
     "data": {
      "text/plain": [
       "0    0.52616\n",
       "1    0.47384\n",
       "Name: deposit, dtype: float64"
      ]
     },
     "execution_count": 15,
     "metadata": {},
     "output_type": "execute_result"
    }
   ],
   "source": [
    "bank0.deposit.value_counts(normalize=True)"
   ]
  },
  {
   "cell_type": "markdown",
   "metadata": {
    "id": "WZhyWtKwONyF"
   },
   "source": [
    "**Dropping `day` and `duration` columns**"
   ]
  },
  {
   "cell_type": "code",
   "execution_count": 16,
   "metadata": {
    "id": "TKIVaAJdONyF",
    "outputId": "f833a946-c9b9-471d-80ae-7e94170cd530"
   },
   "outputs": [
    {
     "data": {
      "text/plain": [
       "Index(['age', 'job', 'marital', 'education', 'default', 'balance', 'housing',\n",
       "       'loan', 'contact', 'month', 'poutcome', 'deposit', 'p_recency'],\n",
       "      dtype='object')"
      ]
     },
     "execution_count": 16,
     "metadata": {},
     "output_type": "execute_result"
    }
   ],
   "source": [
    "bank1 = bank0.drop(['duration','day'],axis=1)\n",
    "bank1.columns"
   ]
  },
  {
   "cell_type": "code",
   "execution_count": 17,
   "metadata": {
    "id": "mzcjSLbLONyF",
    "outputId": "61ae79ff-cc99-4570-e936-1212eeb9ee45"
   },
   "outputs": [
    {
     "data": {
      "text/plain": [
       "Index(['age', 'balance'], dtype='object')"
      ]
     },
     "execution_count": 17,
     "metadata": {},
     "output_type": "execute_result"
    }
   ],
   "source": [
    "num_cols = bank1.select_dtypes('number').columns\n",
    "num_cols = num_cols.drop('deposit')\n",
    "num_cols"
   ]
  },
  {
   "cell_type": "markdown",
   "metadata": {
    "id": "ZDJnNupYONyF"
   },
   "source": [
    "#### Creating dummy variables for the categorical variables\n",
    "\n",
    "Handling `default`, `loan`, `housing`"
   ]
  },
  {
   "cell_type": "code",
   "execution_count": 18,
   "metadata": {
    "id": "xAlFyfVPONyG"
   },
   "outputs": [],
   "source": [
    "def binary_map(col):\n",
    "    return col.map({'no':0, 'yes':1})"
   ]
  },
  {
   "cell_type": "code",
   "execution_count": 19,
   "metadata": {
    "id": "vmEU_ZLDONyG"
   },
   "outputs": [],
   "source": [
    "binary_cols = ['default', 'loan', 'housing']"
   ]
  },
  {
   "cell_type": "code",
   "execution_count": 20,
   "metadata": {
    "id": "ErA96Ek3ONyG"
   },
   "outputs": [],
   "source": [
    "bank1[binary_cols] = bank1[binary_cols].apply(binary_map)"
   ]
  },
  {
   "cell_type": "markdown",
   "metadata": {
    "id": "L6tbJp2AONyG"
   },
   "source": [
    "**Creating dummy features for education, marital, p_recency, poutcome, contact, job, month**"
   ]
  },
  {
   "cell_type": "code",
   "execution_count": 21,
   "metadata": {
    "id": "EvNr-CTTONyH"
   },
   "outputs": [],
   "source": [
    "dumm_cols = ['education', 'marital', 'p_recency', 'contact','poutcome', 'job', 'month']"
   ]
  },
  {
   "cell_type": "code",
   "execution_count": 22,
   "metadata": {
    "id": "edLjRo65ONyH"
   },
   "outputs": [],
   "source": [
    "bank_dummies = pd.get_dummies(bank1[dumm_cols], drop_first=True)"
   ]
  },
  {
   "cell_type": "code",
   "execution_count": 23,
   "metadata": {
    "id": "HVqiJHmZONyH",
    "outputId": "639444eb-ae52-4ecd-e150-a4b312fd803c"
   },
   "outputs": [
    {
     "data": {
      "text/html": [
       "<div>\n",
       "<style scoped>\n",
       "    .dataframe tbody tr th:only-of-type {\n",
       "        vertical-align: middle;\n",
       "    }\n",
       "\n",
       "    .dataframe tbody tr th {\n",
       "        vertical-align: top;\n",
       "    }\n",
       "\n",
       "    .dataframe thead th {\n",
       "        text-align: right;\n",
       "    }\n",
       "</style>\n",
       "<table border=\"1\" class=\"dataframe\">\n",
       "  <thead>\n",
       "    <tr style=\"text-align: right;\">\n",
       "      <th></th>\n",
       "      <th>education_secondary</th>\n",
       "      <th>education_tertiary</th>\n",
       "      <th>education_unknown</th>\n",
       "      <th>marital_married</th>\n",
       "      <th>marital_single</th>\n",
       "      <th>p_recency_a_6m</th>\n",
       "      <th>p_recency_b_1yr</th>\n",
       "      <th>p_recency_c_1yr+</th>\n",
       "      <th>contact_telephone</th>\n",
       "      <th>contact_unknown</th>\n",
       "      <th>...</th>\n",
       "      <th>month_dec</th>\n",
       "      <th>month_feb</th>\n",
       "      <th>month_jan</th>\n",
       "      <th>month_jul</th>\n",
       "      <th>month_jun</th>\n",
       "      <th>month_mar</th>\n",
       "      <th>month_may</th>\n",
       "      <th>month_nov</th>\n",
       "      <th>month_oct</th>\n",
       "      <th>month_sep</th>\n",
       "    </tr>\n",
       "  </thead>\n",
       "  <tbody>\n",
       "    <tr>\n",
       "      <th>0</th>\n",
       "      <td>1</td>\n",
       "      <td>0</td>\n",
       "      <td>0</td>\n",
       "      <td>1</td>\n",
       "      <td>0</td>\n",
       "      <td>0</td>\n",
       "      <td>0</td>\n",
       "      <td>0</td>\n",
       "      <td>0</td>\n",
       "      <td>1</td>\n",
       "      <td>...</td>\n",
       "      <td>0</td>\n",
       "      <td>0</td>\n",
       "      <td>0</td>\n",
       "      <td>0</td>\n",
       "      <td>0</td>\n",
       "      <td>0</td>\n",
       "      <td>1</td>\n",
       "      <td>0</td>\n",
       "      <td>0</td>\n",
       "      <td>0</td>\n",
       "    </tr>\n",
       "    <tr>\n",
       "      <th>1</th>\n",
       "      <td>1</td>\n",
       "      <td>0</td>\n",
       "      <td>0</td>\n",
       "      <td>1</td>\n",
       "      <td>0</td>\n",
       "      <td>0</td>\n",
       "      <td>0</td>\n",
       "      <td>0</td>\n",
       "      <td>0</td>\n",
       "      <td>1</td>\n",
       "      <td>...</td>\n",
       "      <td>0</td>\n",
       "      <td>0</td>\n",
       "      <td>0</td>\n",
       "      <td>0</td>\n",
       "      <td>0</td>\n",
       "      <td>0</td>\n",
       "      <td>1</td>\n",
       "      <td>0</td>\n",
       "      <td>0</td>\n",
       "      <td>0</td>\n",
       "    </tr>\n",
       "    <tr>\n",
       "      <th>2</th>\n",
       "      <td>1</td>\n",
       "      <td>0</td>\n",
       "      <td>0</td>\n",
       "      <td>1</td>\n",
       "      <td>0</td>\n",
       "      <td>0</td>\n",
       "      <td>0</td>\n",
       "      <td>0</td>\n",
       "      <td>0</td>\n",
       "      <td>1</td>\n",
       "      <td>...</td>\n",
       "      <td>0</td>\n",
       "      <td>0</td>\n",
       "      <td>0</td>\n",
       "      <td>0</td>\n",
       "      <td>0</td>\n",
       "      <td>0</td>\n",
       "      <td>1</td>\n",
       "      <td>0</td>\n",
       "      <td>0</td>\n",
       "      <td>0</td>\n",
       "    </tr>\n",
       "    <tr>\n",
       "      <th>3</th>\n",
       "      <td>1</td>\n",
       "      <td>0</td>\n",
       "      <td>0</td>\n",
       "      <td>1</td>\n",
       "      <td>0</td>\n",
       "      <td>0</td>\n",
       "      <td>0</td>\n",
       "      <td>0</td>\n",
       "      <td>0</td>\n",
       "      <td>1</td>\n",
       "      <td>...</td>\n",
       "      <td>0</td>\n",
       "      <td>0</td>\n",
       "      <td>0</td>\n",
       "      <td>0</td>\n",
       "      <td>0</td>\n",
       "      <td>0</td>\n",
       "      <td>1</td>\n",
       "      <td>0</td>\n",
       "      <td>0</td>\n",
       "      <td>0</td>\n",
       "    </tr>\n",
       "    <tr>\n",
       "      <th>4</th>\n",
       "      <td>0</td>\n",
       "      <td>1</td>\n",
       "      <td>0</td>\n",
       "      <td>1</td>\n",
       "      <td>0</td>\n",
       "      <td>0</td>\n",
       "      <td>0</td>\n",
       "      <td>0</td>\n",
       "      <td>0</td>\n",
       "      <td>1</td>\n",
       "      <td>...</td>\n",
       "      <td>0</td>\n",
       "      <td>0</td>\n",
       "      <td>0</td>\n",
       "      <td>0</td>\n",
       "      <td>0</td>\n",
       "      <td>0</td>\n",
       "      <td>1</td>\n",
       "      <td>0</td>\n",
       "      <td>0</td>\n",
       "      <td>0</td>\n",
       "    </tr>\n",
       "  </tbody>\n",
       "</table>\n",
       "<p>5 rows × 35 columns</p>\n",
       "</div>"
      ],
      "text/plain": [
       "   education_secondary  education_tertiary  education_unknown  \\\n",
       "0                    1                   0                  0   \n",
       "1                    1                   0                  0   \n",
       "2                    1                   0                  0   \n",
       "3                    1                   0                  0   \n",
       "4                    0                   1                  0   \n",
       "\n",
       "   marital_married  marital_single  p_recency_a_6m  p_recency_b_1yr  \\\n",
       "0                1               0               0                0   \n",
       "1                1               0               0                0   \n",
       "2                1               0               0                0   \n",
       "3                1               0               0                0   \n",
       "4                1               0               0                0   \n",
       "\n",
       "   p_recency_c_1yr+  contact_telephone  contact_unknown  ...  month_dec  \\\n",
       "0                 0                  0                1  ...          0   \n",
       "1                 0                  0                1  ...          0   \n",
       "2                 0                  0                1  ...          0   \n",
       "3                 0                  0                1  ...          0   \n",
       "4                 0                  0                1  ...          0   \n",
       "\n",
       "   month_feb  month_jan  month_jul  month_jun  month_mar  month_may  \\\n",
       "0          0          0          0          0          0          1   \n",
       "1          0          0          0          0          0          1   \n",
       "2          0          0          0          0          0          1   \n",
       "3          0          0          0          0          0          1   \n",
       "4          0          0          0          0          0          1   \n",
       "\n",
       "   month_nov  month_oct  month_sep  \n",
       "0          0          0          0  \n",
       "1          0          0          0  \n",
       "2          0          0          0  \n",
       "3          0          0          0  \n",
       "4          0          0          0  \n",
       "\n",
       "[5 rows x 35 columns]"
      ]
     },
     "execution_count": 23,
     "metadata": {},
     "output_type": "execute_result"
    }
   ],
   "source": [
    "bank_dummies.head()"
   ]
  },
  {
   "cell_type": "code",
   "execution_count": 24,
   "metadata": {
    "id": "t-5mJPxgONyH",
    "outputId": "7e21f92a-7aa3-4ee2-8e8e-46e567618435"
   },
   "outputs": [
    {
     "data": {
      "text/plain": [
       "(11162, 35)"
      ]
     },
     "execution_count": 24,
     "metadata": {},
     "output_type": "execute_result"
    }
   ],
   "source": [
    "bank_dummies.shape"
   ]
  },
  {
   "cell_type": "markdown",
   "metadata": {
    "id": "BGSTPf-oONyI"
   },
   "source": [
    "**Concatenating dummies back on**"
   ]
  },
  {
   "cell_type": "code",
   "execution_count": 25,
   "metadata": {
    "id": "yteh_pC2ONyI",
    "outputId": "cc68e28c-55fc-495c-c9fe-ab54bbab78df"
   },
   "outputs": [
    {
     "data": {
      "text/plain": [
       "(11162, 41)"
      ]
     },
     "execution_count": 25,
     "metadata": {},
     "output_type": "execute_result"
    }
   ],
   "source": [
    "bank1 = pd.concat([bank1, bank_dummies],axis=1)\n",
    "bank1.drop(dumm_cols, axis=1, inplace=True)\n",
    "bank1.shape"
   ]
  },
  {
   "cell_type": "code",
   "execution_count": 26,
   "metadata": {
    "id": "WluwG56uONyI",
    "outputId": "efbf0173-5608-4b9e-ff18-d6286364698f"
   },
   "outputs": [
    {
     "data": {
      "text/plain": [
       "Index(['age', 'default', 'balance', 'housing', 'loan', 'deposit',\n",
       "       'education_secondary', 'education_tertiary', 'education_unknown',\n",
       "       'marital_married', 'marital_single', 'p_recency_a_6m',\n",
       "       'p_recency_b_1yr', 'p_recency_c_1yr+', 'contact_telephone',\n",
       "       'contact_unknown', 'poutcome_other', 'poutcome_success',\n",
       "       'poutcome_unknown', 'job_blue-collar', 'job_entrepreneur',\n",
       "       'job_housemaid', 'job_management', 'job_retired', 'job_self-employed',\n",
       "       'job_services', 'job_student', 'job_technician', 'job_unemployed',\n",
       "       'job_unknown', 'month_aug', 'month_dec', 'month_feb', 'month_jan',\n",
       "       'month_jul', 'month_jun', 'month_mar', 'month_may', 'month_nov',\n",
       "       'month_oct', 'month_sep'],\n",
       "      dtype='object')"
      ]
     },
     "execution_count": 26,
     "metadata": {},
     "output_type": "execute_result"
    }
   ],
   "source": [
    "bank1.columns"
   ]
  },
  {
   "cell_type": "markdown",
   "metadata": {
    "id": "cnqOLVe4ONyI"
   },
   "source": [
    "---"
   ]
  },
  {
   "cell_type": "markdown",
   "metadata": {
    "id": "lZkI4WWoONyI"
   },
   "source": [
    "#### Dividing into train and test datasets"
   ]
  },
  {
   "cell_type": "code",
   "execution_count": 27,
   "metadata": {
    "id": "00JnLW6iONyI"
   },
   "outputs": [],
   "source": [
    "from sklearn.model_selection import train_test_split"
   ]
  },
  {
   "cell_type": "code",
   "execution_count": 28,
   "metadata": {
    "id": "iCH-CPl6ONyJ"
   },
   "outputs": [],
   "source": [
    "df_train, df_test = train_test_split(bank1, test_size=0.2, random_state=42, stratify=bank1.deposit)"
   ]
  },
  {
   "cell_type": "code",
   "execution_count": 29,
   "metadata": {
    "id": "_4-hTcQBONyJ",
    "outputId": "b143080f-c061-404c-b3b1-2c8fe8b08c50"
   },
   "outputs": [
    {
     "data": {
      "text/plain": [
       "((8929, 41), (2233, 41))"
      ]
     },
     "execution_count": 29,
     "metadata": {},
     "output_type": "execute_result"
    }
   ],
   "source": [
    "df_train.shape, df_test.shape"
   ]
  },
  {
   "cell_type": "code",
   "execution_count": 30,
   "metadata": {
    "id": "SpzAJD3ZONyJ",
    "outputId": "f0f67ef5-e8e0-45b9-fff7-12a63f18d525"
   },
   "outputs": [
    {
     "data": {
      "text/plain": [
       "0    0.526151\n",
       "1    0.473849\n",
       "Name: deposit, dtype: float64"
      ]
     },
     "execution_count": 30,
     "metadata": {},
     "output_type": "execute_result"
    }
   ],
   "source": [
    "df_train.deposit.value_counts(normalize=True)"
   ]
  },
  {
   "cell_type": "code",
   "execution_count": 31,
   "metadata": {
    "id": "O1HNHoqqONyJ",
    "outputId": "13f5ef94-b8d8-4ddf-89f5-2eb70f555f24"
   },
   "outputs": [
    {
     "data": {
      "text/plain": [
       "0    0.526198\n",
       "1    0.473802\n",
       "Name: deposit, dtype: float64"
      ]
     },
     "execution_count": 31,
     "metadata": {},
     "output_type": "execute_result"
    }
   ],
   "source": [
    "df_test.deposit.value_counts(normalize=True)"
   ]
  },
  {
   "cell_type": "markdown",
   "metadata": {
    "id": "LslEm_rvONyJ"
   },
   "source": [
    "#### MinMax scaling for numeric features"
   ]
  },
  {
   "cell_type": "code",
   "execution_count": 32,
   "metadata": {
    "id": "v7C2oILaONyJ"
   },
   "outputs": [
    {
     "data": {
      "text/html": [
       "<div>\n",
       "<style scoped>\n",
       "    .dataframe tbody tr th:only-of-type {\n",
       "        vertical-align: middle;\n",
       "    }\n",
       "\n",
       "    .dataframe tbody tr th {\n",
       "        vertical-align: top;\n",
       "    }\n",
       "\n",
       "    .dataframe thead th {\n",
       "        text-align: right;\n",
       "    }\n",
       "</style>\n",
       "<table border=\"1\" class=\"dataframe\">\n",
       "  <thead>\n",
       "    <tr style=\"text-align: right;\">\n",
       "      <th></th>\n",
       "      <th>age</th>\n",
       "      <th>balance</th>\n",
       "    </tr>\n",
       "  </thead>\n",
       "  <tbody>\n",
       "    <tr>\n",
       "      <th>count</th>\n",
       "      <td>8929.000000</td>\n",
       "      <td>8929.000000</td>\n",
       "    </tr>\n",
       "    <tr>\n",
       "      <th>mean</th>\n",
       "      <td>0.301283</td>\n",
       "      <td>0.095031</td>\n",
       "    </tr>\n",
       "    <tr>\n",
       "      <th>std</th>\n",
       "      <td>0.154103</td>\n",
       "      <td>0.034781</td>\n",
       "    </tr>\n",
       "    <tr>\n",
       "      <th>min</th>\n",
       "      <td>0.000000</td>\n",
       "      <td>0.000000</td>\n",
       "    </tr>\n",
       "    <tr>\n",
       "      <th>25%</th>\n",
       "      <td>0.181818</td>\n",
       "      <td>0.079136</td>\n",
       "    </tr>\n",
       "    <tr>\n",
       "      <th>50%</th>\n",
       "      <td>0.272727</td>\n",
       "      <td>0.084008</td>\n",
       "    </tr>\n",
       "    <tr>\n",
       "      <th>75%</th>\n",
       "      <td>0.402597</td>\n",
       "      <td>0.097387</td>\n",
       "    </tr>\n",
       "    <tr>\n",
       "      <th>max</th>\n",
       "      <td>1.000000</td>\n",
       "      <td>1.000000</td>\n",
       "    </tr>\n",
       "  </tbody>\n",
       "</table>\n",
       "</div>"
      ],
      "text/plain": [
       "               age      balance\n",
       "count  8929.000000  8929.000000\n",
       "mean      0.301283     0.095031\n",
       "std       0.154103     0.034781\n",
       "min       0.000000     0.000000\n",
       "25%       0.181818     0.079136\n",
       "50%       0.272727     0.084008\n",
       "75%       0.402597     0.097387\n",
       "max       1.000000     1.000000"
      ]
     },
     "execution_count": 32,
     "metadata": {},
     "output_type": "execute_result"
    }
   ],
   "source": [
    "from sklearn.preprocessing import MinMaxScaler\n",
    "scaler = MinMaxScaler()\n",
    "df_train[['age', 'balance']] = scaler.fit_transform(df_train[['age', 'balance']])\n",
    "df_test[['age', 'balance']] = scaler.transform(df_test[['age', 'balance']])\n",
    "df_train[['age', 'balance']].describe()"
   ]
  },
  {
   "cell_type": "code",
   "execution_count": 34,
   "metadata": {},
   "outputs": [],
   "source": [
    "df_train.to_csv(\"Azra Marketing - Train.csv\",index=False)\n",
    "df_test.to_csv(\"Azra Marketing - Test.csv\",index=False)"
   ]
  }
 ],
 "metadata": {
  "colab": {
   "name": "Bank Marketing Prediction v0.1.ipynb",
   "provenance": []
  },
  "kernelspec": {
   "display_name": "Python 3",
   "language": "python",
   "name": "python3"
  },
  "language_info": {
   "codemirror_mode": {
    "name": "ipython",
    "version": 3
   },
   "file_extension": ".py",
   "mimetype": "text/x-python",
   "name": "python",
   "nbconvert_exporter": "python",
   "pygments_lexer": "ipython3",
   "version": "3.7.4"
  }
 },
 "nbformat": 4,
 "nbformat_minor": 4
}
