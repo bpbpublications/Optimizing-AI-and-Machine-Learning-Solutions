{
  "nbformat": 4,
  "nbformat_minor": 0,
  "metadata": {
    "colab": {
      "provenance": [],
      "gpuType": "T4"
    },
    "kernelspec": {
      "name": "python3",
      "display_name": "Python 3"
    },
    "language_info": {
      "name": "python"
    },
    "accelerator": "GPU"
  },
  "cells": [
    {
      "cell_type": "code",
      "metadata": {
        "id": "kAqJIsNvveMK"
      },
      "source": [
        "import numpy as np, pandas as pd\n",
        "import matplotlib.pyplot as plt\n",
        "import tensorflow as tf\n",
        "np.random.seed(42)\n",
        "tf.random.set_seed(42)"
      ],
      "execution_count": null,
      "outputs": []
    },
    {
      "cell_type": "code",
      "metadata": {
        "id": "UHDdO2scv4-b",
        "colab": {
          "base_uri": "https://localhost:8080/"
        },
        "outputId": "2572ec79-1b2d-4107-d709-97a3970997ee"
      },
      "source": [
        "fashion_mnist = tf.keras.datasets.fashion_mnist\n",
        "(train_images, train_labels), (test_images, test_labels) = fashion_mnist.load_data()"
      ],
      "execution_count": null,
      "outputs": [
        {
          "output_type": "stream",
          "name": "stdout",
          "text": [
            "Downloading data from https://storage.googleapis.com/tensorflow/tf-keras-datasets/train-labels-idx1-ubyte.gz\n",
            "29515/29515 [==============================] - 0s 0us/step\n",
            "Downloading data from https://storage.googleapis.com/tensorflow/tf-keras-datasets/train-images-idx3-ubyte.gz\n",
            "26421880/26421880 [==============================] - 0s 0us/step\n",
            "Downloading data from https://storage.googleapis.com/tensorflow/tf-keras-datasets/t10k-labels-idx1-ubyte.gz\n",
            "5148/5148 [==============================] - 0s 0us/step\n",
            "Downloading data from https://storage.googleapis.com/tensorflow/tf-keras-datasets/t10k-images-idx3-ubyte.gz\n",
            "4422102/4422102 [==============================] - 0s 0us/step\n"
          ]
        }
      ]
    },
    {
      "cell_type": "code",
      "metadata": {
        "colab": {
          "base_uri": "https://localhost:8080/"
        },
        "id": "E7WWAiTx82tS",
        "outputId": "a4a8fe17-0e71-4b31-dc7e-08824b99fa4b"
      },
      "source": [
        "train_images.shape, test_images.shape"
      ],
      "execution_count": null,
      "outputs": [
        {
          "output_type": "execute_result",
          "data": {
            "text/plain": [
              "((60000, 28, 28), (10000, 28, 28))"
            ]
          },
          "metadata": {},
          "execution_count": 5
        }
      ]
    },
    {
      "cell_type": "code",
      "metadata": {
        "colab": {
          "base_uri": "https://localhost:8080/"
        },
        "id": "r0qf1CmOveZZ",
        "outputId": "80091f21-ffd4-4464-d2d8-737220707dea"
      },
      "source": [
        "np.unique(train_labels, return_counts=True)"
      ],
      "execution_count": null,
      "outputs": [
        {
          "output_type": "execute_result",
          "data": {
            "text/plain": [
              "(array([0, 1, 2, 3, 4, 5, 6, 7, 8, 9], dtype=uint8),\n",
              " array([6000, 6000, 6000, 6000, 6000, 6000, 6000, 6000, 6000, 6000]))"
            ]
          },
          "metadata": {},
          "execution_count": 10
        }
      ]
    },
    {
      "cell_type": "code",
      "source": [
        "np.min(train_images[0]), np.max(train_images[0])"
      ],
      "metadata": {
        "colab": {
          "base_uri": "https://localhost:8080/"
        },
        "id": "wgjhiDxmsOjQ",
        "outputId": "1a2fdf76-d7e2-44b3-b786-94826122f019"
      },
      "execution_count": null,
      "outputs": [
        {
          "output_type": "execute_result",
          "data": {
            "text/plain": [
              "(0, 255)"
            ]
          },
          "metadata": {},
          "execution_count": 6
        }
      ]
    },
    {
      "cell_type": "code",
      "metadata": {
        "id": "2SPOUNJFv4RZ"
      },
      "source": [
        "# Normalize pixel values between 0 and 1\n",
        "train_images = train_images.astype('float32') / 255.0\n",
        "test_images = test_images.astype('float32') / 255.0"
      ],
      "execution_count": null,
      "outputs": []
    },
    {
      "cell_type": "markdown",
      "metadata": {
        "id": "Zpk53ytSiUxl"
      },
      "source": [
        "### Section: Building a baseline model"
      ]
    },
    {
      "cell_type": "code",
      "metadata": {
        "id": "xtY2T6zuwW-8"
      },
      "source": [
        "from tensorflow.keras.models import Sequential\n",
        "from tensorflow.keras.layers import  Flatten, Dense, Dropout\n",
        "from tensorflow.keras.callbacks import EarlyStopping, ModelCheckpoint"
      ],
      "execution_count": null,
      "outputs": []
    },
    {
      "cell_type": "code",
      "metadata": {
        "id": "cL6QFSdbizri"
      },
      "source": [
        "model1 = Sequential()\n",
        "model1.add(Flatten(input_shape=(28,28)))\n",
        "model1.add(Dense(64, activation='sigmoid'))\n",
        "model1.add(Dropout(0.2))\n",
        "model1.add(Dense(10, activation='softmax'))"
      ],
      "execution_count": null,
      "outputs": []
    },
    {
      "cell_type": "code",
      "metadata": {
        "id": "pk_kWv8Iizr0"
      },
      "source": [
        "model1.compile(\n",
        "  optimizer='adam',\n",
        "  loss='sparse_categorical_crossentropy',\n",
        "  metrics=['accuracy']\n",
        ")"
      ],
      "execution_count": null,
      "outputs": []
    },
    {
      "cell_type": "code",
      "metadata": {
        "colab": {
          "base_uri": "https://localhost:8080/"
        },
        "id": "prih9xN2izr0",
        "outputId": "e3ceec30-5190-43e3-c966-26de928d6560"
      },
      "source": [
        "model1.summary()"
      ],
      "execution_count": null,
      "outputs": [
        {
          "output_type": "stream",
          "name": "stdout",
          "text": [
            "Model: \"sequential\"\n",
            "_________________________________________________________________\n",
            " Layer (type)                Output Shape              Param #   \n",
            "=================================================================\n",
            " flatten (Flatten)           (None, 784)               0         \n",
            "                                                                 \n",
            " dense (Dense)               (None, 64)                50240     \n",
            "                                                                 \n",
            " dropout (Dropout)           (None, 64)                0         \n",
            "                                                                 \n",
            " dense_1 (Dense)             (None, 10)                650       \n",
            "                                                                 \n",
            "=================================================================\n",
            "Total params: 50890 (198.79 KB)\n",
            "Trainable params: 50890 (198.79 KB)\n",
            "Non-trainable params: 0 (0.00 Byte)\n",
            "_________________________________________________________________\n"
          ]
        }
      ]
    },
    {
      "cell_type": "code",
      "metadata": {
        "id": "vGi_7ALevehL"
      },
      "source": [
        "callbacks = EarlyStopping(monitor='val_accuracy', patience=5, restore_best_weights=True)"
      ],
      "execution_count": null,
      "outputs": []
    },
    {
      "cell_type": "code",
      "metadata": {
        "colab": {
          "base_uri": "https://localhost:8080/"
        },
        "id": "waXSaTB1igUQ",
        "outputId": "6849a3ca-b58b-4adc-83d9-b8f47a569dcb"
      },
      "source": [
        "history = model1.fit(train_images, train_labels,\n",
        "                     validation_split=0.2, shuffle=True,\n",
        "                     epochs=50, batch_size=256,\n",
        "                     callbacks=[callbacks])"
      ],
      "execution_count": null,
      "outputs": [
        {
          "output_type": "stream",
          "name": "stdout",
          "text": [
            "Epoch 1/50\n",
            "188/188 [==============================] - 8s 5ms/step - loss: 1.1175 - accuracy: 0.6549 - val_loss: 0.6799 - val_accuracy: 0.7948\n",
            "Epoch 2/50\n",
            "188/188 [==============================] - 1s 4ms/step - loss: 0.6451 - accuracy: 0.7870 - val_loss: 0.5377 - val_accuracy: 0.8176\n",
            "Epoch 3/50\n",
            "188/188 [==============================] - 1s 4ms/step - loss: 0.5478 - accuracy: 0.8126 - val_loss: 0.4876 - val_accuracy: 0.8268\n",
            "Epoch 4/50\n",
            "188/188 [==============================] - 1s 4ms/step - loss: 0.5018 - accuracy: 0.8256 - val_loss: 0.4581 - val_accuracy: 0.8389\n",
            "Epoch 5/50\n",
            "188/188 [==============================] - 1s 6ms/step - loss: 0.4734 - accuracy: 0.8337 - val_loss: 0.4318 - val_accuracy: 0.8446\n",
            "Epoch 6/50\n",
            "188/188 [==============================] - 1s 5ms/step - loss: 0.4540 - accuracy: 0.8414 - val_loss: 0.4209 - val_accuracy: 0.8496\n",
            "Epoch 7/50\n",
            "188/188 [==============================] - 1s 5ms/step - loss: 0.4370 - accuracy: 0.8459 - val_loss: 0.4081 - val_accuracy: 0.8520\n",
            "Epoch 8/50\n",
            "188/188 [==============================] - 1s 4ms/step - loss: 0.4242 - accuracy: 0.8491 - val_loss: 0.3992 - val_accuracy: 0.8558\n",
            "Epoch 9/50\n",
            "188/188 [==============================] - 1s 4ms/step - loss: 0.4139 - accuracy: 0.8521 - val_loss: 0.3922 - val_accuracy: 0.8571\n",
            "Epoch 10/50\n",
            "188/188 [==============================] - 1s 4ms/step - loss: 0.4030 - accuracy: 0.8557 - val_loss: 0.3835 - val_accuracy: 0.8639\n",
            "Epoch 11/50\n",
            "188/188 [==============================] - 1s 4ms/step - loss: 0.3969 - accuracy: 0.8598 - val_loss: 0.3788 - val_accuracy: 0.8619\n",
            "Epoch 12/50\n",
            "188/188 [==============================] - 1s 4ms/step - loss: 0.3904 - accuracy: 0.8597 - val_loss: 0.3747 - val_accuracy: 0.8645\n",
            "Epoch 13/50\n",
            "188/188 [==============================] - 1s 4ms/step - loss: 0.3816 - accuracy: 0.8636 - val_loss: 0.3682 - val_accuracy: 0.8677\n",
            "Epoch 14/50\n",
            "188/188 [==============================] - 1s 4ms/step - loss: 0.3766 - accuracy: 0.8650 - val_loss: 0.3654 - val_accuracy: 0.8673\n",
            "Epoch 15/50\n",
            "188/188 [==============================] - 1s 4ms/step - loss: 0.3711 - accuracy: 0.8672 - val_loss: 0.3607 - val_accuracy: 0.8712\n",
            "Epoch 16/50\n",
            "188/188 [==============================] - 1s 4ms/step - loss: 0.3642 - accuracy: 0.8691 - val_loss: 0.3587 - val_accuracy: 0.8678\n",
            "Epoch 17/50\n",
            "188/188 [==============================] - 1s 4ms/step - loss: 0.3602 - accuracy: 0.8706 - val_loss: 0.3523 - val_accuracy: 0.8731\n",
            "Epoch 18/50\n",
            "188/188 [==============================] - 1s 4ms/step - loss: 0.3563 - accuracy: 0.8717 - val_loss: 0.3487 - val_accuracy: 0.8735\n",
            "Epoch 19/50\n",
            "188/188 [==============================] - 1s 4ms/step - loss: 0.3531 - accuracy: 0.8727 - val_loss: 0.3487 - val_accuracy: 0.8754\n",
            "Epoch 20/50\n",
            "188/188 [==============================] - 1s 4ms/step - loss: 0.3478 - accuracy: 0.8740 - val_loss: 0.3450 - val_accuracy: 0.8729\n",
            "Epoch 21/50\n",
            "188/188 [==============================] - 1s 5ms/step - loss: 0.3441 - accuracy: 0.8757 - val_loss: 0.3446 - val_accuracy: 0.8765\n",
            "Epoch 22/50\n",
            "188/188 [==============================] - 1s 5ms/step - loss: 0.3403 - accuracy: 0.8799 - val_loss: 0.3396 - val_accuracy: 0.8775\n",
            "Epoch 23/50\n",
            "188/188 [==============================] - 1s 4ms/step - loss: 0.3383 - accuracy: 0.8781 - val_loss: 0.3374 - val_accuracy: 0.8781\n",
            "Epoch 24/50\n",
            "188/188 [==============================] - 1s 4ms/step - loss: 0.3337 - accuracy: 0.8792 - val_loss: 0.3361 - val_accuracy: 0.8785\n",
            "Epoch 25/50\n",
            "188/188 [==============================] - 1s 4ms/step - loss: 0.3290 - accuracy: 0.8822 - val_loss: 0.3326 - val_accuracy: 0.8794\n",
            "Epoch 26/50\n",
            "188/188 [==============================] - 1s 4ms/step - loss: 0.3278 - accuracy: 0.8814 - val_loss: 0.3381 - val_accuracy: 0.8763\n",
            "Epoch 27/50\n",
            "188/188 [==============================] - 1s 4ms/step - loss: 0.3251 - accuracy: 0.8832 - val_loss: 0.3325 - val_accuracy: 0.8789\n",
            "Epoch 28/50\n",
            "188/188 [==============================] - 1s 4ms/step - loss: 0.3200 - accuracy: 0.8845 - val_loss: 0.3283 - val_accuracy: 0.8813\n",
            "Epoch 29/50\n",
            "188/188 [==============================] - 1s 4ms/step - loss: 0.3168 - accuracy: 0.8857 - val_loss: 0.3262 - val_accuracy: 0.8826\n",
            "Epoch 30/50\n",
            "188/188 [==============================] - 1s 4ms/step - loss: 0.3167 - accuracy: 0.8856 - val_loss: 0.3276 - val_accuracy: 0.8804\n",
            "Epoch 31/50\n",
            "188/188 [==============================] - 1s 4ms/step - loss: 0.3122 - accuracy: 0.8859 - val_loss: 0.3245 - val_accuracy: 0.8830\n",
            "Epoch 32/50\n",
            "188/188 [==============================] - 1s 4ms/step - loss: 0.3095 - accuracy: 0.8887 - val_loss: 0.3263 - val_accuracy: 0.8817\n",
            "Epoch 33/50\n",
            "188/188 [==============================] - 1s 4ms/step - loss: 0.3089 - accuracy: 0.8870 - val_loss: 0.3243 - val_accuracy: 0.8814\n",
            "Epoch 34/50\n",
            "188/188 [==============================] - 1s 4ms/step - loss: 0.3036 - accuracy: 0.8894 - val_loss: 0.3252 - val_accuracy: 0.8810\n",
            "Epoch 35/50\n",
            "188/188 [==============================] - 1s 4ms/step - loss: 0.3033 - accuracy: 0.8905 - val_loss: 0.3246 - val_accuracy: 0.8811\n",
            "Epoch 36/50\n",
            "188/188 [==============================] - 1s 5ms/step - loss: 0.2984 - accuracy: 0.8912 - val_loss: 0.3195 - val_accuracy: 0.8838\n",
            "Epoch 37/50\n",
            "188/188 [==============================] - 1s 6ms/step - loss: 0.2986 - accuracy: 0.8915 - val_loss: 0.3176 - val_accuracy: 0.8843\n",
            "Epoch 38/50\n",
            "188/188 [==============================] - 1s 5ms/step - loss: 0.2970 - accuracy: 0.8915 - val_loss: 0.3184 - val_accuracy: 0.8863\n",
            "Epoch 39/50\n",
            "188/188 [==============================] - 1s 4ms/step - loss: 0.2940 - accuracy: 0.8928 - val_loss: 0.3163 - val_accuracy: 0.8860\n",
            "Epoch 40/50\n",
            "188/188 [==============================] - 1s 4ms/step - loss: 0.2921 - accuracy: 0.8938 - val_loss: 0.3151 - val_accuracy: 0.8852\n",
            "Epoch 41/50\n",
            "188/188 [==============================] - 1s 4ms/step - loss: 0.2900 - accuracy: 0.8940 - val_loss: 0.3143 - val_accuracy: 0.8857\n",
            "Epoch 42/50\n",
            "188/188 [==============================] - 1s 4ms/step - loss: 0.2896 - accuracy: 0.8936 - val_loss: 0.3181 - val_accuracy: 0.8844\n",
            "Epoch 43/50\n",
            "188/188 [==============================] - 1s 4ms/step - loss: 0.2872 - accuracy: 0.8948 - val_loss: 0.3127 - val_accuracy: 0.8864\n",
            "Epoch 44/50\n",
            "188/188 [==============================] - 1s 4ms/step - loss: 0.2851 - accuracy: 0.8957 - val_loss: 0.3139 - val_accuracy: 0.8868\n",
            "Epoch 45/50\n",
            "188/188 [==============================] - 1s 4ms/step - loss: 0.2832 - accuracy: 0.8970 - val_loss: 0.3146 - val_accuracy: 0.8861\n",
            "Epoch 46/50\n",
            "188/188 [==============================] - 1s 4ms/step - loss: 0.2820 - accuracy: 0.8971 - val_loss: 0.3128 - val_accuracy: 0.8853\n",
            "Epoch 47/50\n",
            "188/188 [==============================] - 1s 4ms/step - loss: 0.2799 - accuracy: 0.8987 - val_loss: 0.3115 - val_accuracy: 0.8874\n",
            "Epoch 48/50\n",
            "188/188 [==============================] - 1s 4ms/step - loss: 0.2785 - accuracy: 0.8996 - val_loss: 0.3095 - val_accuracy: 0.8874\n",
            "Epoch 49/50\n",
            "188/188 [==============================] - 1s 4ms/step - loss: 0.2768 - accuracy: 0.8986 - val_loss: 0.3148 - val_accuracy: 0.8862\n",
            "Epoch 50/50\n",
            "188/188 [==============================] - 1s 4ms/step - loss: 0.2756 - accuracy: 0.9001 - val_loss: 0.3107 - val_accuracy: 0.8865\n"
          ]
        }
      ]
    },
    {
      "cell_type": "code",
      "metadata": {
        "colab": {
          "base_uri": "https://localhost:8080/",
          "height": 449
        },
        "id": "6vJ9IuAzigRn",
        "outputId": "c7361848-6be1-4e6e-874a-c0b5e5148cf8"
      },
      "source": [
        "plt.plot(history.history['accuracy'], label='Train Accuracy')\n",
        "plt.plot(history.history['val_accuracy'], label='Validation Accuracy')\n",
        "plt.xlabel(\"Epochs\")\n",
        "plt.ylabel('Accuracy')\n",
        "plt.legend()\n",
        "plt.show()"
      ],
      "execution_count": null,
      "outputs": [
        {
          "output_type": "display_data",
          "data": {
            "text/plain": [
              "<Figure size 640x480 with 1 Axes>"
            ],
            "image/png": "[encoded data removed]"
          },
          "metadata": {}
        }
      ]
    },
    {
      "cell_type": "code",
      "metadata": {
        "colab": {
          "base_uri": "https://localhost:8080/"
        },
        "id": "3clWTVkm0ACr",
        "outputId": "fdbbb4e6-57a1-43a7-baf0-67a8603b0e12"
      },
      "source": [
        "model1.evaluate(test_images, test_labels)[1]"
      ],
      "execution_count": null,
      "outputs": [
        {
          "output_type": "stream",
          "name": "stdout",
          "text": [
            "313/313 [==============================] - 1s 4ms/step - loss: 0.3409 - accuracy: 0.8807\n"
          ]
        },
        {
          "output_type": "execute_result",
          "data": {
            "text/plain": [
              "0.8806999921798706"
            ]
          },
          "metadata": {},
          "execution_count": 15
        }
      ]
    },
    {
      "cell_type": "markdown",
      "metadata": {
        "id": "g9ah9eZhzgdD"
      },
      "source": [
        "### Section: Tuning the activation function\n"
      ]
    },
    {
      "cell_type": "code",
      "metadata": {
        "id": "PWBdL1iQvOJs",
        "colab": {
          "base_uri": "https://localhost:8080/"
        },
        "outputId": "7194a25f-4592-4574-b08b-796dcb0b3ccd"
      },
      "source": [
        "!pip install keras-tuner -q"
      ],
      "execution_count": null,
      "outputs": [
        {
          "output_type": "stream",
          "name": "stdout",
          "text": [
            "\u001b[?25l     \u001b[90m━━━━━━━━━━━━━━━━━━━━━━━━━━━━━━━━━━━━━━━━\u001b[0m \u001b[32m0.0/129.5 kB\u001b[0m \u001b[31m?\u001b[0m eta \u001b[36m-:--:--\u001b[0m\r\u001b[2K     \u001b[91m━━━━━━━━━━━━━━━━━━━━━━━━━━━━━━━━━━━━━\u001b[0m\u001b[91m╸\u001b[0m\u001b[90m━━\u001b[0m \u001b[32m122.9/129.5 kB\u001b[0m \u001b[31m3.8 MB/s\u001b[0m eta \u001b[36m0:00:01\u001b[0m\r\u001b[2K     \u001b[90m━━━━━━━━━━━━━━━━━━━━━━━━━━━━━━━━━━━━━━━━\u001b[0m \u001b[32m129.5/129.5 kB\u001b[0m \u001b[31m3.2 MB/s\u001b[0m eta \u001b[36m0:00:00\u001b[0m\n",
            "\u001b[?25h\u001b[?25l     \u001b[90m━━━━━━━━━━━━━━━━━━━━━━━━━━━━━━━━━━━━━━━━\u001b[0m \u001b[32m0.0/950.8 kB\u001b[0m \u001b[31m?\u001b[0m eta \u001b[36m-:--:--\u001b[0m\r\u001b[2K     \u001b[91m━━━━━━━━━━━━━━━━━━━━━━━━━━━━━━━━━━━━━━━\u001b[0m\u001b[91m╸\u001b[0m \u001b[32m942.1/950.8 kB\u001b[0m \u001b[31m39.2 MB/s\u001b[0m eta \u001b[36m0:00:01\u001b[0m\r\u001b[2K     \u001b[90m━━━━━━━━━━━━━━━━━━━━━━━━━━━━━━━━━━━━━━━━\u001b[0m \u001b[32m950.8/950.8 kB\u001b[0m \u001b[31m26.7 MB/s\u001b[0m eta \u001b[36m0:00:00\u001b[0m\n",
            "\u001b[?25h"
          ]
        }
      ]
    },
    {
      "cell_type": "code",
      "source": [
        "import keras_tuner as kt\n",
        "from tensorflow import keras"
      ],
      "metadata": {
        "id": "fp7DbQZIt8uQ"
      },
      "execution_count": null,
      "outputs": []
    },
    {
      "cell_type": "code",
      "metadata": {
        "id": "VAsACL94NNOX"
      },
      "source": [
        "def model_builder(hparams):\n",
        "\n",
        "  model = Sequential()\n",
        "  model.add(Flatten(input_shape=(28, 28)))\n",
        "\n",
        "  hp_activation = hparams.Choice('activation', ['sigmoid', 'tanh', 'elu', 'relu'])\n",
        "  model.add(Dense(units=64, activation=hp_activation))\n",
        "  model.add(Dropout(0.2))\n",
        "  model.add(Dense(units=10, activation='softmax'))\n",
        "\n",
        "  model.compile(optimizer='adam',\n",
        "                loss='sparse_categorical_crossentropy',\n",
        "                metrics=['accuracy'])\n",
        "\n",
        "  return model"
      ],
      "execution_count": null,
      "outputs": []
    },
    {
      "cell_type": "code",
      "metadata": {
        "id": "K_Mg3SkaNNOd"
      },
      "source": [
        "tuner = kt.RandomSearch(\n",
        "    model_builder,\n",
        "    objective='val_accuracy',\n",
        "    max_trials=4,\n",
        "    overwrite=True,\n",
        "    seed=42)"
      ],
      "execution_count": null,
      "outputs": []
    },
    {
      "cell_type": "code",
      "metadata": {
        "colab": {
          "base_uri": "https://localhost:8080/"
        },
        "id": "f98Zcmoclc5i",
        "outputId": "e5c92e59-17ed-48d6-bb5a-83e6f01b4138"
      },
      "source": [
        "tuner.search_space_summary()"
      ],
      "execution_count": null,
      "outputs": [
        {
          "output_type": "stream",
          "name": "stdout",
          "text": [
            "Search space summary\n",
            "Default search space size: 1\n",
            "activation (Choice)\n",
            "{'default': 'sigmoid', 'conditions': [], 'values': ['sigmoid', 'tanh', 'elu', 'relu'], 'ordered': False}\n"
          ]
        }
      ]
    },
    {
      "cell_type": "code",
      "metadata": {
        "id": "xWd3t_hqSWFJ"
      },
      "source": [
        "stop_early = EarlyStopping(monitor='val_accuracy',\n",
        "                           patience=10,\n",
        "                           restore_best_weights=True)"
      ],
      "execution_count": null,
      "outputs": []
    },
    {
      "cell_type": "code",
      "metadata": {
        "colab": {
          "base_uri": "https://localhost:8080/"
        },
        "id": "5ZcqF9LBNNOd",
        "outputId": "e25dbf00-5b49-488f-e994-7991509d4809"
      },
      "source": [
        "tuner.search(train_images, train_labels,\n",
        "             validation_split=0.2,\n",
        "             epochs=25, batch_size=256,\n",
        "             callbacks=[stop_early])"
      ],
      "execution_count": null,
      "outputs": [
        {
          "output_type": "stream",
          "name": "stdout",
          "text": [
            "Trial 4 Complete [00h 00m 26s]\n",
            "val_accuracy: 0.887333333492279\n",
            "\n",
            "Best val_accuracy So Far: 0.887333333492279\n",
            "Total elapsed time: 00h 02m 33s\n"
          ]
        }
      ]
    },
    {
      "cell_type": "code",
      "metadata": {
        "colab": {
          "base_uri": "https://localhost:8080/"
        },
        "id": "eEISihas5-iu",
        "outputId": "e3b05608-849a-4977-a671-ffb3848c5aa7"
      },
      "source": [
        "res = tuner.get_best_hyperparameters()[0]\n",
        "res.values"
      ],
      "execution_count": null,
      "outputs": [
        {
          "output_type": "execute_result",
          "data": {
            "text/plain": [
              "{'activation': 'relu'}"
            ]
          },
          "metadata": {},
          "execution_count": 25
        }
      ]
    },
    {
      "cell_type": "code",
      "metadata": {
        "colab": {
          "base_uri": "https://localhost:8080/"
        },
        "id": "KpQ0EykmZZYX",
        "outputId": "19fcc7a8-29fb-4b4f-d4ba-cc22db47a570"
      },
      "source": [
        "tuner.results_summary()"
      ],
      "execution_count": null,
      "outputs": [
        {
          "output_type": "stream",
          "name": "stdout",
          "text": [
            "Results summary\n",
            "Results in ./untitled_project\n",
            "Showing 10 best trials\n",
            "Objective(name='val_accuracy', direction='max')\n",
            "Trial summary\n",
            "Hyperparameters:\n",
            "activation: elu\n",
            "Score: 0.8964999914169312\n",
            "Trial summary\n",
            "Hyperparameters:\n",
            "activation: sigmoid\n",
            "Score: 0.8923333287239075\n",
            "Trial summary\n",
            "Hyperparameters:\n",
            "activation: relu\n",
            "Score: 0.8894166946411133\n",
            "Trial summary\n",
            "Hyperparameters:\n",
            "activation: tanh\n",
            "Score: 0.8887500166893005\n"
          ]
        }
      ]
    },
    {
      "cell_type": "code",
      "metadata": {
        "id": "XOBb4dWS5-gL"
      },
      "source": [
        "best_activation_model = tuner.get_best_models()[0]"
      ],
      "execution_count": null,
      "outputs": []
    },
    {
      "cell_type": "code",
      "metadata": {
        "colab": {
          "base_uri": "https://localhost:8080/"
        },
        "id": "MfXhG_HAVEiB",
        "outputId": "1c2bad61-42ae-4eee-e2f8-697676c1e236"
      },
      "source": [
        "best_activation_model.evaluate(test_images, test_labels)[1]"
      ],
      "execution_count": null,
      "outputs": [
        {
          "output_type": "stream",
          "name": "stdout",
          "text": [
            "313/313 [==============================] - 1s 2ms/step - loss: 0.3450 - accuracy: 0.8828\n"
          ]
        },
        {
          "output_type": "execute_result",
          "data": {
            "text/plain": [
              "0.8827999830245972"
            ]
          },
          "metadata": {},
          "execution_count": 62
        }
      ]
    },
    {
      "cell_type": "markdown",
      "metadata": {
        "id": "dKpjkIGRNPHJ"
      },
      "source": [
        "### Section: Tuning the learning rate"
      ]
    },
    {
      "cell_type": "code",
      "metadata": {
        "id": "J4_CJF9kVEaC"
      },
      "source": [
        "def model_builder(hparams):\n",
        "\n",
        "  model = Sequential()\n",
        "  model.add(Flatten(input_shape=(28, 28)))\n",
        "\n",
        "  hp_activation = hparams.Choice('activation', ['elu', 'relu', 'tanh'])\n",
        "  model.add(Dense(units=64, activation=hp_activation))\n",
        "  model.add(Dropout(0.2))\n",
        "  model.add(Dense(units=10, activation='softmax'))\n",
        "\n",
        "  hp_lr = hparams.Choice('learning_rate', [1e-5, 1e-4, 1e-3, 1e-2, 0.1])\n",
        "  model.compile(optimizer=keras.optimizers.Adam(learning_rate=hp_lr),\n",
        "                loss='sparse_categorical_crossentropy',\n",
        "                metrics=['accuracy'])\n",
        "\n",
        "  return model"
      ],
      "execution_count": null,
      "outputs": []
    },
    {
      "cell_type": "code",
      "metadata": {
        "id": "oBJ2gExDFlM0"
      },
      "source": [
        "tuner = kt.RandomSearch(\n",
        "    model_builder,\n",
        "    objective='val_accuracy',\n",
        "    max_trials=10,\n",
        "    overwrite=True,\n",
        "    seed=42)"
      ],
      "execution_count": null,
      "outputs": []
    },
    {
      "cell_type": "code",
      "metadata": {
        "colab": {
          "base_uri": "https://localhost:8080/"
        },
        "id": "lJLlufMAFlNP",
        "outputId": "51e4fcb7-aa63-4520-f7fd-f16f66dba8bd"
      },
      "source": [
        "tuner.search_space_summary()"
      ],
      "execution_count": null,
      "outputs": [
        {
          "output_type": "stream",
          "name": "stdout",
          "text": [
            "Search space summary\n",
            "Default search space size: 2\n",
            "activation (Choice)\n",
            "{'default': 'elu', 'conditions': [], 'values': ['elu', 'relu', 'tanh'], 'ordered': False}\n",
            "learning_rate (Choice)\n",
            "{'default': 1e-05, 'conditions': [], 'values': [1e-05, 0.0001, 0.001, 0.01, 0.1], 'ordered': True}\n"
          ]
        }
      ]
    },
    {
      "cell_type": "code",
      "metadata": {
        "id": "9LhdEeSuFlNQ"
      },
      "source": [
        "stop_early = EarlyStopping(monitor='val_accuracy',\n",
        "                           patience=10,\n",
        "                           restore_best_weights=True)"
      ],
      "execution_count": null,
      "outputs": []
    },
    {
      "cell_type": "code",
      "metadata": {
        "colab": {
          "base_uri": "https://localhost:8080/"
        },
        "id": "pj5X8g9_FlNQ",
        "outputId": "0a489374-9e8a-449d-e956-c795b15ed0b2"
      },
      "source": [
        "tuner.search(train_images, train_labels, validation_split=0.2,\n",
        "             epochs=25, batch_size=256,\n",
        "             callbacks=[stop_early])"
      ],
      "execution_count": null,
      "outputs": [
        {
          "output_type": "stream",
          "name": "stdout",
          "text": [
            "Trial 10 Complete [00h 00m 42s]\n",
            "val_accuracy: 0.8548333048820496\n",
            "\n",
            "Best val_accuracy So Far: 0.8852499723434448\n",
            "Total elapsed time: 00h 06m 09s\n"
          ]
        }
      ]
    },
    {
      "cell_type": "code",
      "metadata": {
        "colab": {
          "base_uri": "https://localhost:8080/"
        },
        "id": "cFHMGIk4FlNR",
        "outputId": "11193606-70a2-4658-ae35-a86936af358a"
      },
      "source": [
        "res = tuner.get_best_hyperparameters()[0]\n",
        "res.values"
      ],
      "execution_count": null,
      "outputs": [
        {
          "output_type": "execute_result",
          "data": {
            "text/plain": [
              "{'activation': 'relu', 'learning_rate': 0.001}"
            ]
          },
          "metadata": {},
          "execution_count": 32
        }
      ]
    },
    {
      "cell_type": "code",
      "metadata": {
        "colab": {
          "base_uri": "https://localhost:8080/"
        },
        "id": "cGMuusCDFlNS",
        "outputId": "d0e36128-a6d2-420a-ef7e-336b9383c957"
      },
      "source": [
        "tuner.results_summary()"
      ],
      "execution_count": null,
      "outputs": [
        {
          "output_type": "stream",
          "name": "stdout",
          "text": [
            "Results summary\n",
            "Results in ./untitled_project\n",
            "Showing 10 best trials\n",
            "Objective(name=\"val_accuracy\", direction=\"max\")\n",
            "\n",
            "Trial 07 summary\n",
            "Hyperparameters:\n",
            "activation: relu\n",
            "learning_rate: 0.001\n",
            "Score: 0.8852499723434448\n",
            "\n",
            "Trial 05 summary\n",
            "Hyperparameters:\n",
            "activation: elu\n",
            "learning_rate: 0.001\n",
            "Score: 0.8830833435058594\n",
            "\n",
            "Trial 06 summary\n",
            "Hyperparameters:\n",
            "activation: tanh\n",
            "learning_rate: 0.001\n",
            "Score: 0.8826666474342346\n",
            "\n",
            "Trial 03 summary\n",
            "Hyperparameters:\n",
            "activation: tanh\n",
            "learning_rate: 0.01\n",
            "Score: 0.8701666593551636\n",
            "\n",
            "Trial 01 summary\n",
            "Hyperparameters:\n",
            "activation: relu\n",
            "learning_rate: 0.0001\n",
            "Score: 0.856083333492279\n",
            "\n",
            "Trial 02 summary\n",
            "Hyperparameters:\n",
            "activation: tanh\n",
            "learning_rate: 0.0001\n",
            "Score: 0.8552500009536743\n",
            "\n",
            "Trial 09 summary\n",
            "Hyperparameters:\n",
            "activation: elu\n",
            "learning_rate: 0.0001\n",
            "Score: 0.8548333048820496\n",
            "\n",
            "Trial 04 summary\n",
            "Hyperparameters:\n",
            "activation: tanh\n",
            "learning_rate: 1e-05\n",
            "Score: 0.7870000004768372\n",
            "\n",
            "Trial 08 summary\n",
            "Hyperparameters:\n",
            "activation: elu\n",
            "learning_rate: 1e-05\n",
            "Score: 0.784500002861023\n",
            "\n",
            "Trial 00 summary\n",
            "Hyperparameters:\n",
            "activation: relu\n",
            "learning_rate: 1e-05\n",
            "Score: 0.7745833396911621\n"
          ]
        }
      ]
    },
    {
      "cell_type": "code",
      "metadata": {
        "colab": {
          "base_uri": "https://localhost:8080/"
        },
        "id": "q8zERDNu_388",
        "outputId": "fb0bd008-b0ed-44b4-f244-f581e923458c"
      },
      "source": [
        "best_lr_model = tuner.get_best_models()[0]\n",
        "best_lr_model.evaluate(test_images, test_labels)[1]"
      ],
      "execution_count": null,
      "outputs": [
        {
          "output_type": "stream",
          "name": "stdout",
          "text": [
            "WARNING:tensorflow:Unresolved object in checkpoint: (root).optimizer.iter\n",
            "WARNING:tensorflow:Unresolved object in checkpoint: (root).optimizer.beta_1\n",
            "WARNING:tensorflow:Unresolved object in checkpoint: (root).optimizer.beta_2\n",
            "WARNING:tensorflow:Unresolved object in checkpoint: (root).optimizer.decay\n",
            "WARNING:tensorflow:Unresolved object in checkpoint: (root).optimizer.learning_rate\n",
            "WARNING:tensorflow:A checkpoint was restored (e.g. tf.train.Checkpoint.restore or tf.keras.Model.load_weights) but not all checkpointed values were used. See above for specific issues. Use expect_partial() on the load status object, e.g. tf.train.Checkpoint.restore(...).expect_partial(), to silence these warnings, or use assert_consumed() to make the check explicit. See https://www.tensorflow.org/guide/checkpoint#loading_mechanics for details.\n"
          ]
        }
      ]
    },
    {
      "cell_type": "markdown",
      "metadata": {
        "id": "ZmwGW-Tvv-y7"
      },
      "source": [
        "### Section: Tuning the number of hidden units"
      ]
    },
    {
      "cell_type": "code",
      "metadata": {
        "id": "PIxpq3BOVDzS"
      },
      "source": [
        "def model_builder(hparams):\n",
        "\n",
        "  model = Sequential()\n",
        "  model.add(Flatten(input_shape=(28, 28)))\n",
        "\n",
        "  hp_units = hparams.Int('units', min_value=32, max_value=512, step=32)\n",
        "  hp_activation = hparams.Choice('activation', ['elu', 'relu'])\n",
        "  model.add(Dense(units=hp_units, activation=hp_activation))\n",
        "  model.add(Dropout(0.2))\n",
        "\n",
        "  model.add(Dense(units=10, activation='softmax'))\n",
        "\n",
        "  hp_lr = hparams.Choice('learning_rate', [1e-4, 1e-3])\n",
        "  model.compile(optimizer=keras.optimizers.Adam(learning_rate=hp_lr),\n",
        "                loss='sparse_categorical_crossentropy',\n",
        "                metrics=['accuracy'])\n",
        "\n",
        "  return model"
      ],
      "execution_count": null,
      "outputs": []
    },
    {
      "cell_type": "code",
      "metadata": {
        "id": "2C8ERLHzzQ2R"
      },
      "source": [
        "tuner = kt.RandomSearch(\n",
        "    model_builder,\n",
        "    objective='val_accuracy',\n",
        "    max_trials=15,\n",
        "    overwrite=True,\n",
        "    seed=42)"
      ],
      "execution_count": null,
      "outputs": []
    },
    {
      "cell_type": "code",
      "metadata": {
        "id": "OQAWmjhyzduH"
      },
      "source": [
        "stop_early = EarlyStopping(monitor='val_accuracy',\n",
        "                           patience=10,\n",
        "                           restore_best_weights=True)"
      ],
      "execution_count": null,
      "outputs": []
    },
    {
      "cell_type": "code",
      "metadata": {
        "colab": {
          "base_uri": "https://localhost:8080/"
        },
        "id": "XacRPhRyzduH",
        "outputId": "36cc6347-855f-46cc-b3f4-59b63d6e5375"
      },
      "source": [
        "tuner.search(train_images, train_labels, validation_split=0.2,\n",
        "             epochs=25, batch_size=256,\n",
        "             callbacks=[stop_early])"
      ],
      "execution_count": null,
      "outputs": [
        {
          "output_type": "stream",
          "name": "stdout",
          "text": [
            "Trial 10 Complete [00h 00m 21s]\n",
            "val_accuracy: 0.8521666526794434\n",
            "\n",
            "Best val_accuracy So Far: 0.8759166598320007\n",
            "Total elapsed time: 00h 06m 32s\n",
            "INFO:tensorflow:Oracle triggered exit\n"
          ]
        }
      ]
    },
    {
      "cell_type": "code",
      "metadata": {
        "colab": {
          "base_uri": "https://localhost:8080/"
        },
        "id": "dB0mEBotzduH",
        "outputId": "2901eebc-ea21-456b-f8ae-b60c2e7c573a"
      },
      "source": [
        "res = tuner.get_best_hyperparameters()[0]\n",
        "res.values"
      ],
      "execution_count": null,
      "outputs": [
        {
          "output_type": "execute_result",
          "data": {
            "text/plain": [
              "{'activation': 'relu', 'learning_rate': 0.001, 'units': 256}"
            ]
          },
          "metadata": {},
          "execution_count": 86
        }
      ]
    },
    {
      "cell_type": "code",
      "source": [
        "best_units_model = tuner.get_best_models()[0]\n",
        "best_units_model.evaluate(test_images, test_labels)[1]"
      ],
      "metadata": {
        "id": "kpYMJKGmyCau"
      },
      "execution_count": null,
      "outputs": []
    },
    {
      "cell_type": "markdown",
      "metadata": {
        "id": "bMDTgRz4DUBa"
      },
      "source": [
        "### Section: Tuning the number of layers"
      ]
    },
    {
      "cell_type": "code",
      "metadata": {
        "id": "qUPEwnXr5-S_"
      },
      "source": [
        "def model_builder(hparams):\n",
        "    model = Sequential()\n",
        "    model.add(Flatten(input_shape=(28, 28)))\n",
        "\n",
        "    for layer in range(hparams.Int(\"num_layers\", 1, 5)):\n",
        "        model.add(\n",
        "            Dense(\n",
        "                units = hparams.Int(\"units_\" + str(layer), min_value=32, max_value=256, step=32),\n",
        "                activation=\"relu\",\n",
        "            ))\n",
        "    model.add(Dropout(0.2))\n",
        "\n",
        "    model.add(Dense(10, activation=\"softmax\"))\n",
        "    model.compile(optimizer=keras.optimizers.Adam(learning_rate=0.01),\n",
        "                  loss=\"sparse_categorical_crossentropy\",\n",
        "                  metrics=[\"accuracy\"])\n",
        "\n",
        "    return model"
      ],
      "execution_count": null,
      "outputs": []
    },
    {
      "cell_type": "markdown",
      "metadata": {
        "id": "CIR2MogRGa2-"
      },
      "source": [
        "### Optimizer"
      ]
    },
    {
      "cell_type": "code",
      "metadata": {
        "id": "UU_KEnCJ5-FL"
      },
      "source": [
        "def model_builder(hparams):\n",
        "\n",
        "  model = Sequential()\n",
        "  model.add(Flatten(input_shape=(28, 28)))\n",
        "\n",
        "  model.add(Dense(units=192, activation='relu'))\n",
        "  model.add(Dropout(0.2))\n",
        "  model.add(Dense(units=10, activation='softmax'))\n",
        "\n",
        "  hp_opt = hparams.Choice('optimizer', ['adam', 'nadam', 'sgd'])\n",
        "  model.compile(optimizer=hp_opt,\n",
        "                loss='sparse_categorical_crossentropy',\n",
        "                metrics=['accuracy'])\n",
        "\n",
        "  return model"
      ],
      "execution_count": null,
      "outputs": []
    },
    {
      "cell_type": "code",
      "metadata": {
        "id": "uXWOdqxXHBXY"
      },
      "source": [
        "tuner = kt.RandomSearch(\n",
        "    model_builder,\n",
        "    objective='val_accuracy',\n",
        "    max_trials=3,\n",
        "    overwrite=True)"
      ],
      "execution_count": null,
      "outputs": []
    },
    {
      "cell_type": "code",
      "metadata": {
        "id": "ANGajkl8HBXf"
      },
      "source": [
        "stop_early = EarlyStopping(monitor='val_accuracy',\n",
        "                           patience=5,\n",
        "                           restore_best_weights=True)"
      ],
      "execution_count": null,
      "outputs": []
    },
    {
      "cell_type": "code",
      "metadata": {
        "colab": {
          "base_uri": "https://localhost:8080/"
        },
        "id": "84RQsZhxHBXf",
        "outputId": "a5a89378-0d2c-43e5-94ec-5f526dc0827b"
      },
      "source": [
        "tuner.search(train_images, train_labels, validation_split=0.2,\n",
        "             epochs=25, callbacks=[stop_early])"
      ],
      "execution_count": null,
      "outputs": [
        {
          "output_type": "stream",
          "name": "stdout",
          "text": [
            "Trial 3 Complete [00h 02m 23s]\n",
            "val_accuracy: 0.8964166641235352\n",
            "\n",
            "Best val_accuracy So Far: 0.8964166641235352\n",
            "Total elapsed time: 00h 09m 09s\n"
          ]
        }
      ]
    },
    {
      "cell_type": "code",
      "metadata": {
        "colab": {
          "base_uri": "https://localhost:8080/"
        },
        "id": "rOU6YVAhHBXf",
        "outputId": "a632f819-8d1f-4cb4-c415-bd560a63df41"
      },
      "source": [
        "res = tuner.get_best_hyperparameters()[0]\n",
        "res.values"
      ],
      "execution_count": null,
      "outputs": [
        {
          "output_type": "execute_result",
          "data": {
            "text/plain": [
              "{'optimizer': 'adam'}"
            ]
          },
          "metadata": {},
          "execution_count": 38
        }
      ]
    },
    {
      "cell_type": "code",
      "metadata": {
        "colab": {
          "base_uri": "https://localhost:8080/"
        },
        "id": "f62I8rHEHBXg",
        "outputId": "948d1537-2c6b-419f-9365-a204ae10db9a"
      },
      "source": [
        "tuner.results_summary()"
      ],
      "execution_count": null,
      "outputs": [
        {
          "output_type": "stream",
          "name": "stdout",
          "text": [
            "Results summary\n",
            "Results in ./untitled_project\n",
            "Showing 10 best trials\n",
            "Objective(name=\"val_accuracy\", direction=\"max\")\n",
            "\n",
            "Trial 2 summary\n",
            "Hyperparameters:\n",
            "optimizer: adam\n",
            "Score: 0.8964166641235352\n",
            "\n",
            "Trial 1 summary\n",
            "Hyperparameters:\n",
            "optimizer: nadam\n",
            "Score: 0.893916666507721\n",
            "\n",
            "Trial 0 summary\n",
            "Hyperparameters:\n",
            "optimizer: sgd\n",
            "Score: 0.8794999718666077\n"
          ]
        }
      ]
    },
    {
      "cell_type": "code",
      "source": [
        "best_opt_model = tuner.get_best_models()[0]\n",
        "best_opt_model.evaluate(test_images, test_labels)[1]"
      ],
      "metadata": {
        "colab": {
          "base_uri": "https://localhost:8080/"
        },
        "id": "ILQSJ840zDbk",
        "outputId": "7229b561-e031-4342-f2f3-dcadd9efef1a"
      },
      "execution_count": null,
      "outputs": [
        {
          "output_type": "stream",
          "name": "stdout",
          "text": [
            "313/313 [==============================] - 1s 2ms/step - loss: 0.3427 - accuracy: 0.8885\n"
          ]
        },
        {
          "output_type": "execute_result",
          "data": {
            "text/plain": [
              "0.8884999752044678"
            ]
          },
          "metadata": {},
          "execution_count": 40
        }
      ]
    }
  ]
}